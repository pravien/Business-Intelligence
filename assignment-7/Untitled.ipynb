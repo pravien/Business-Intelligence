{
 "cells": [
  {
   "cell_type": "code",
   "execution_count": 55,
   "metadata": {},
   "outputs": [],
   "source": [
    "import pandas as pd\n",
    "from sklearn.preprocessing import LabelEncoder\n",
    "from sklearn.model_selection import train_test_split\n",
    "from sklearn.svm import LinearSVC\n",
    "from sklearn.neighbors import KNeighborsClassifier\n",
    "from sklearn.metrics import accuracy_score\n",
    "from sklearn.tree import DecisionTreeClassifier\n",
    "from sklearn import metrics"
   ]
  },
  {
   "cell_type": "markdown",
   "metadata": {},
   "source": [
    "### Part 1: Data processing"
   ]
  },
  {
   "cell_type": "code",
   "execution_count": 2,
   "metadata": {},
   "outputs": [],
   "source": [
    "df = pd.read_csv('./house_sale_data_with_geocodes.csv')"
   ]
  },
  {
   "cell_type": "code",
   "execution_count": 3,
   "metadata": {},
   "outputs": [
    {
     "data": {
      "text/html": [
       "<div>\n",
       "<style scoped>\n",
       "    .dataframe tbody tr th:only-of-type {\n",
       "        vertical-align: middle;\n",
       "    }\n",
       "\n",
       "    .dataframe tbody tr th {\n",
       "        vertical-align: top;\n",
       "    }\n",
       "\n",
       "    .dataframe thead th {\n",
       "        text-align: right;\n",
       "    }\n",
       "</style>\n",
       "<table border=\"1\" class=\"dataframe\">\n",
       "  <thead>\n",
       "    <tr style=\"text-align: right;\">\n",
       "      <th></th>\n",
       "      <th>address</th>\n",
       "      <th>zip_code</th>\n",
       "      <th>price</th>\n",
       "      <th>sell_date</th>\n",
       "      <th>sell_type</th>\n",
       "      <th>price_per_sq_m</th>\n",
       "      <th>no_rooms</th>\n",
       "      <th>housing_type</th>\n",
       "      <th>size_in_sq_m</th>\n",
       "      <th>year_of_construction</th>\n",
       "      <th>price_change_in_pct</th>\n",
       "      <th>zip_code_num</th>\n",
       "      <th>long</th>\n",
       "      <th>lat</th>\n",
       "    </tr>\n",
       "  </thead>\n",
       "  <tbody>\n",
       "    <tr>\n",
       "      <td>0</td>\n",
       "      <td>Nykøbingvej 23</td>\n",
       "      <td>4460 Snertinge</td>\n",
       "      <td>150000</td>\n",
       "      <td>05-04-2017</td>\n",
       "      <td>Alm. Salg</td>\n",
       "      <td>1209.0</td>\n",
       "      <td>4.0</td>\n",
       "      <td>Villa</td>\n",
       "      <td>124.0</td>\n",
       "      <td>1934.0</td>\n",
       "      <td>0.0</td>\n",
       "      <td>4460</td>\n",
       "      <td>11.383189</td>\n",
       "      <td>55.714074</td>\n",
       "    </tr>\n",
       "    <tr>\n",
       "      <td>1</td>\n",
       "      <td>Bakkekammen 5</td>\n",
       "      <td>4460 Snertinge</td>\n",
       "      <td>1145000</td>\n",
       "      <td>24-03-2017</td>\n",
       "      <td>Alm. Salg</td>\n",
       "      <td>9015.0</td>\n",
       "      <td>3.0</td>\n",
       "      <td>Villa</td>\n",
       "      <td>127.0</td>\n",
       "      <td>1971.0</td>\n",
       "      <td>-4.0</td>\n",
       "      <td>4460</td>\n",
       "      <td>11.381936</td>\n",
       "      <td>55.717096</td>\n",
       "    </tr>\n",
       "    <tr>\n",
       "      <td>2</td>\n",
       "      <td>Æblekjærvej 11</td>\n",
       "      <td>4460 Snertinge</td>\n",
       "      <td>700000</td>\n",
       "      <td>15-02-2017</td>\n",
       "      <td>Alm. Salg</td>\n",
       "      <td>6666.0</td>\n",
       "      <td>3.0</td>\n",
       "      <td>Villa</td>\n",
       "      <td>105.0</td>\n",
       "      <td>1946.0</td>\n",
       "      <td>-12.0</td>\n",
       "      <td>4460</td>\n",
       "      <td>11.381427</td>\n",
       "      <td>55.719840</td>\n",
       "    </tr>\n",
       "    <tr>\n",
       "      <td>3</td>\n",
       "      <td>Bakkekammen 7</td>\n",
       "      <td>4460 Snertinge</td>\n",
       "      <td>920000</td>\n",
       "      <td>30-01-2017</td>\n",
       "      <td>Alm. Salg</td>\n",
       "      <td>8518.0</td>\n",
       "      <td>4.0</td>\n",
       "      <td>Villa</td>\n",
       "      <td>108.0</td>\n",
       "      <td>1966.0</td>\n",
       "      <td>-3.0</td>\n",
       "      <td>4460</td>\n",
       "      <td>11.382017</td>\n",
       "      <td>55.716914</td>\n",
       "    </tr>\n",
       "    <tr>\n",
       "      <td>4</td>\n",
       "      <td>Tværvej 4</td>\n",
       "      <td>4460 Snertinge</td>\n",
       "      <td>300000</td>\n",
       "      <td>01-12-2016</td>\n",
       "      <td>Alm. Salg</td>\n",
       "      <td>3061.0</td>\n",
       "      <td>3.0</td>\n",
       "      <td>Villa</td>\n",
       "      <td>98.0</td>\n",
       "      <td>1964.0</td>\n",
       "      <td>0.0</td>\n",
       "      <td>4460</td>\n",
       "      <td>11.381899</td>\n",
       "      <td>55.710771</td>\n",
       "    </tr>\n",
       "  </tbody>\n",
       "</table>\n",
       "</div>"
      ],
      "text/plain": [
       "          address        zip_code    price   sell_date  sell_type  \\\n",
       "0  Nykøbingvej 23  4460 Snertinge   150000  05-04-2017  Alm. Salg   \n",
       "1   Bakkekammen 5  4460 Snertinge  1145000  24-03-2017  Alm. Salg   \n",
       "2  Æblekjærvej 11  4460 Snertinge   700000  15-02-2017  Alm. Salg   \n",
       "3   Bakkekammen 7  4460 Snertinge   920000  30-01-2017  Alm. Salg   \n",
       "4       Tværvej 4  4460 Snertinge   300000  01-12-2016  Alm. Salg   \n",
       "\n",
       "   price_per_sq_m  no_rooms housing_type  size_in_sq_m  year_of_construction  \\\n",
       "0          1209.0       4.0        Villa         124.0                1934.0   \n",
       "1          9015.0       3.0        Villa         127.0                1971.0   \n",
       "2          6666.0       3.0        Villa         105.0                1946.0   \n",
       "3          8518.0       4.0        Villa         108.0                1966.0   \n",
       "4          3061.0       3.0        Villa          98.0                1964.0   \n",
       "\n",
       "   price_change_in_pct  zip_code_num       long        lat  \n",
       "0                  0.0          4460  11.383189  55.714074  \n",
       "1                 -4.0          4460  11.381936  55.717096  \n",
       "2                -12.0          4460  11.381427  55.719840  \n",
       "3                 -3.0          4460  11.382017  55.716914  \n",
       "4                  0.0          4460  11.381899  55.710771  "
      ]
     },
     "execution_count": 3,
     "metadata": {},
     "output_type": "execute_result"
    }
   ],
   "source": [
    "df.head()"
   ]
  },
  {
   "cell_type": "markdown",
   "metadata": {},
   "source": [
    "We are going to make a classifier which can predict if the house price of a house will increase or decrease og stay the same. We are going to use the following features :  \n",
    "\n",
    "- zip_code_num\n",
    "- price\n",
    "- price_per_sq_m\n",
    "- no_rooms\n",
    "- housing_type\n",
    "- size_in_sq_m\n",
    "- year_of_construction\n",
    "- long\n",
    "- lat"
   ]
  },
  {
   "cell_type": "code",
   "execution_count": 4,
   "metadata": {},
   "outputs": [
    {
     "data": {
      "text/plain": [
       "array(['Villa', 'Stuehus', 'Rækkehus', 'Lejlighed', 'Døgninstitution',\n",
       "       'Sommerhus', 'Detailhandel', 'Undervisning o.l.', 'Anden beboelse',\n",
       "       'Engroshandel', 'Ukendt', 'BygningTilLager', 'Servicevirksomhed',\n",
       "       'Erhverv', 'Fritid', 'Kolonihavehus', 'Industri o.l.',\n",
       "       'Dobbelthus', 'BygningTilHandel', 'Kollegium', 'Biograf o.l.',\n",
       "       'BygningTilKontor', 'Ferie, andet', 'Anden handel/transport',\n",
       "       'Landbrug o.l.', 'Idrætsudøvelse', 'Daginstitution', 'Landbrug',\n",
       "       'Hospital', 'AndenBygningTilKontorHandelLager',\n",
       "       'Anden Institution', 'Museum o.l.', 'Transport, garage',\n",
       "       'Tankstation', 'Pengeinstitut o.l.', 'Off. Administration'],\n",
       "      dtype=object)"
      ]
     },
     "execution_count": 4,
     "metadata": {},
     "output_type": "execute_result"
    }
   ],
   "source": [
    "df['housing_type'].unique()"
   ]
  },
  {
   "cell_type": "markdown",
   "metadata": {},
   "source": [
    "We change the housing_type to numbers and save it in a new column called housing_type_bin"
   ]
  },
  {
   "cell_type": "code",
   "execution_count": 5,
   "metadata": {},
   "outputs": [],
   "source": [
    "le = LabelEncoder()\n",
    "df['housing_type_bin'] = le.fit_transform(df['housing_type'])"
   ]
  },
  {
   "cell_type": "code",
   "execution_count": 6,
   "metadata": {},
   "outputs": [
    {
     "data": {
      "text/html": [
       "<div>\n",
       "<style scoped>\n",
       "    .dataframe tbody tr th:only-of-type {\n",
       "        vertical-align: middle;\n",
       "    }\n",
       "\n",
       "    .dataframe tbody tr th {\n",
       "        vertical-align: top;\n",
       "    }\n",
       "\n",
       "    .dataframe thead th {\n",
       "        text-align: right;\n",
       "    }\n",
       "</style>\n",
       "<table border=\"1\" class=\"dataframe\">\n",
       "  <thead>\n",
       "    <tr style=\"text-align: right;\">\n",
       "      <th></th>\n",
       "      <th>address</th>\n",
       "      <th>zip_code</th>\n",
       "      <th>price</th>\n",
       "      <th>sell_date</th>\n",
       "      <th>sell_type</th>\n",
       "      <th>price_per_sq_m</th>\n",
       "      <th>no_rooms</th>\n",
       "      <th>housing_type</th>\n",
       "      <th>size_in_sq_m</th>\n",
       "      <th>year_of_construction</th>\n",
       "      <th>price_change_in_pct</th>\n",
       "      <th>zip_code_num</th>\n",
       "      <th>long</th>\n",
       "      <th>lat</th>\n",
       "      <th>housing_type_bin</th>\n",
       "    </tr>\n",
       "  </thead>\n",
       "  <tbody>\n",
       "    <tr>\n",
       "      <td>0</td>\n",
       "      <td>Nykøbingvej 23</td>\n",
       "      <td>4460 Snertinge</td>\n",
       "      <td>150000</td>\n",
       "      <td>05-04-2017</td>\n",
       "      <td>Alm. Salg</td>\n",
       "      <td>1209.0</td>\n",
       "      <td>4.0</td>\n",
       "      <td>Villa</td>\n",
       "      <td>124.0</td>\n",
       "      <td>1934.0</td>\n",
       "      <td>0.0</td>\n",
       "      <td>4460</td>\n",
       "      <td>11.383189</td>\n",
       "      <td>55.714074</td>\n",
       "      <td>35</td>\n",
       "    </tr>\n",
       "    <tr>\n",
       "      <td>1</td>\n",
       "      <td>Bakkekammen 5</td>\n",
       "      <td>4460 Snertinge</td>\n",
       "      <td>1145000</td>\n",
       "      <td>24-03-2017</td>\n",
       "      <td>Alm. Salg</td>\n",
       "      <td>9015.0</td>\n",
       "      <td>3.0</td>\n",
       "      <td>Villa</td>\n",
       "      <td>127.0</td>\n",
       "      <td>1971.0</td>\n",
       "      <td>-4.0</td>\n",
       "      <td>4460</td>\n",
       "      <td>11.381936</td>\n",
       "      <td>55.717096</td>\n",
       "      <td>35</td>\n",
       "    </tr>\n",
       "    <tr>\n",
       "      <td>2</td>\n",
       "      <td>Æblekjærvej 11</td>\n",
       "      <td>4460 Snertinge</td>\n",
       "      <td>700000</td>\n",
       "      <td>15-02-2017</td>\n",
       "      <td>Alm. Salg</td>\n",
       "      <td>6666.0</td>\n",
       "      <td>3.0</td>\n",
       "      <td>Villa</td>\n",
       "      <td>105.0</td>\n",
       "      <td>1946.0</td>\n",
       "      <td>-12.0</td>\n",
       "      <td>4460</td>\n",
       "      <td>11.381427</td>\n",
       "      <td>55.719840</td>\n",
       "      <td>35</td>\n",
       "    </tr>\n",
       "    <tr>\n",
       "      <td>3</td>\n",
       "      <td>Bakkekammen 7</td>\n",
       "      <td>4460 Snertinge</td>\n",
       "      <td>920000</td>\n",
       "      <td>30-01-2017</td>\n",
       "      <td>Alm. Salg</td>\n",
       "      <td>8518.0</td>\n",
       "      <td>4.0</td>\n",
       "      <td>Villa</td>\n",
       "      <td>108.0</td>\n",
       "      <td>1966.0</td>\n",
       "      <td>-3.0</td>\n",
       "      <td>4460</td>\n",
       "      <td>11.382017</td>\n",
       "      <td>55.716914</td>\n",
       "      <td>35</td>\n",
       "    </tr>\n",
       "    <tr>\n",
       "      <td>4</td>\n",
       "      <td>Tværvej 4</td>\n",
       "      <td>4460 Snertinge</td>\n",
       "      <td>300000</td>\n",
       "      <td>01-12-2016</td>\n",
       "      <td>Alm. Salg</td>\n",
       "      <td>3061.0</td>\n",
       "      <td>3.0</td>\n",
       "      <td>Villa</td>\n",
       "      <td>98.0</td>\n",
       "      <td>1964.0</td>\n",
       "      <td>0.0</td>\n",
       "      <td>4460</td>\n",
       "      <td>11.381899</td>\n",
       "      <td>55.710771</td>\n",
       "      <td>35</td>\n",
       "    </tr>\n",
       "  </tbody>\n",
       "</table>\n",
       "</div>"
      ],
      "text/plain": [
       "          address        zip_code    price   sell_date  sell_type  \\\n",
       "0  Nykøbingvej 23  4460 Snertinge   150000  05-04-2017  Alm. Salg   \n",
       "1   Bakkekammen 5  4460 Snertinge  1145000  24-03-2017  Alm. Salg   \n",
       "2  Æblekjærvej 11  4460 Snertinge   700000  15-02-2017  Alm. Salg   \n",
       "3   Bakkekammen 7  4460 Snertinge   920000  30-01-2017  Alm. Salg   \n",
       "4       Tværvej 4  4460 Snertinge   300000  01-12-2016  Alm. Salg   \n",
       "\n",
       "   price_per_sq_m  no_rooms housing_type  size_in_sq_m  year_of_construction  \\\n",
       "0          1209.0       4.0        Villa         124.0                1934.0   \n",
       "1          9015.0       3.0        Villa         127.0                1971.0   \n",
       "2          6666.0       3.0        Villa         105.0                1946.0   \n",
       "3          8518.0       4.0        Villa         108.0                1966.0   \n",
       "4          3061.0       3.0        Villa          98.0                1964.0   \n",
       "\n",
       "   price_change_in_pct  zip_code_num       long        lat  housing_type_bin  \n",
       "0                  0.0          4460  11.383189  55.714074                35  \n",
       "1                 -4.0          4460  11.381936  55.717096                35  \n",
       "2                -12.0          4460  11.381427  55.719840                35  \n",
       "3                 -3.0          4460  11.382017  55.716914                35  \n",
       "4                  0.0          4460  11.381899  55.710771                35  "
      ]
     },
     "execution_count": 6,
     "metadata": {},
     "output_type": "execute_result"
    }
   ],
   "source": [
    "df.head()"
   ]
  },
  {
   "cell_type": "markdown",
   "metadata": {},
   "source": [
    "### Part 2: ML model selection and construction"
   ]
  },
  {
   "cell_type": "markdown",
   "metadata": {},
   "source": [
    "Next step is to generate labels for the data. We have 3 labels : \n",
    "\n",
    "- house price will increase = 2\n",
    "- house price stay the same = 1\n",
    "- house price will decrease = 0\n",
    "\n",
    "Let's generate the labels."
   ]
  },
  {
   "cell_type": "code",
   "execution_count": 7,
   "metadata": {},
   "outputs": [],
   "source": [
    "def price_change_label(price_change):\n",
    "    if price_change > 0.0:\n",
    "        return 2\n",
    "    elif price_change < 0.0:\n",
    "        return 0\n",
    "    else: \n",
    "        return 1"
   ]
  },
  {
   "cell_type": "code",
   "execution_count": 8,
   "metadata": {},
   "outputs": [],
   "source": [
    "df['price_change_label'] = df.apply(lambda x : price_change_label(x['price_change_in_pct']),axis=1)"
   ]
  },
  {
   "cell_type": "markdown",
   "metadata": {},
   "source": [
    "Lets see if the dataset is balanced."
   ]
  },
  {
   "cell_type": "code",
   "execution_count": 9,
   "metadata": {},
   "outputs": [
    {
     "name": "stdout",
     "output_type": "stream",
     "text": [
      "922902 342021 16915\n"
     ]
    }
   ],
   "source": [
    "count_class_1 , count_class_0 , count_class_2 = df.price_change_label.value_counts()\n",
    "print(count_class_1,count_class_0,count_class_2)"
   ]
  },
  {
   "cell_type": "markdown",
   "metadata": {},
   "source": [
    "We can see that the dataset is very unbalanced. so we need to balance it"
   ]
  },
  {
   "cell_type": "code",
   "execution_count": 28,
   "metadata": {},
   "outputs": [],
   "source": [
    "#Lets make a mask for all of the labels.\n",
    "df_class_0 = df[df['price_change_label'] == 0]\n",
    "df_class_1 = df[df['price_change_label'] == 1]\n",
    "df_class_2 = df[df['price_change_label'] == 2]"
   ]
  },
  {
   "cell_type": "code",
   "execution_count": 29,
   "metadata": {},
   "outputs": [],
   "source": [
    "# now we take 16915 random values from price_change_label where label is 0 and 1.\n",
    "df_class_0 = df_class_0.sample(count_class_2)\n",
    "df_class_1 = df_class_1.sample(count_class_2)\n",
    "\n",
    "df_class_0_50 = df_class_0[:-50]\n",
    "df_class_0 = df_class_0[:16865]\n",
    "\n",
    "df_class_1_50 = df_class_1[:-50]\n",
    "df_class_1 = df_class_1[:16865]\n",
    "\n",
    "df_class_2_50 = df_class_2[:-50]\n",
    "df_class_2 = df_class_2[:16865]\n",
    "\n",
    "# combine all of the new classes to one dataFrame\n",
    "df_balanced = pd.concat([df_class_0, df_class_1, df_class_2], axis=0)\n",
    "df_val_data = pd.concat([df_class_0_50, df_class_1_50, df_class_2_50], axis=0)"
   ]
  },
  {
   "cell_type": "markdown",
   "metadata": {},
   "source": [
    "Below we can see that we have one balanced dataFrame"
   ]
  },
  {
   "cell_type": "code",
   "execution_count": 30,
   "metadata": {},
   "outputs": [
    {
     "data": {
      "text/plain": [
       "2    16865\n",
       "1    16865\n",
       "0    16865\n",
       "Name: price_change_label, dtype: int64"
      ]
     },
     "execution_count": 30,
     "metadata": {},
     "output_type": "execute_result"
    }
   ],
   "source": [
    "df_balanced.price_change_label.value_counts()"
   ]
  },
  {
   "cell_type": "markdown",
   "metadata": {},
   "source": [
    "Now we can make our feature set"
   ]
  },
  {
   "cell_type": "code",
   "execution_count": 13,
   "metadata": {},
   "outputs": [],
   "source": [
    "X = df_balanced[['zip_code_num','price','price_per_sq_m','no_rooms','housing_type_bin','size_in_sq_m','year_of_construction',\n",
    "      'long','lat']]\n",
    "y = df_balanced.price_change_label"
   ]
  },
  {
   "cell_type": "code",
   "execution_count": 31,
   "metadata": {},
   "outputs": [],
   "source": [
    "X_train, X_test, y_train, y_test = train_test_split(X, y, test_size=0.2, random_state=1,shuffle=True)"
   ]
  },
  {
   "cell_type": "code",
   "execution_count": 50,
   "metadata": {},
   "outputs": [
    {
     "data": {
      "text/plain": [
       "KNeighborsClassifier(algorithm='auto', leaf_size=30, metric='minkowski',\n",
       "                     metric_params=None, n_jobs=None, n_neighbors=3, p=2,\n",
       "                     weights='uniform')"
      ]
     },
     "execution_count": 50,
     "metadata": {},
     "output_type": "execute_result"
    }
   ],
   "source": [
    "model = KNeighborsClassifier(3)\n",
    "model.fit(X_train,y_train)"
   ]
  },
  {
   "cell_type": "code",
   "execution_count": 51,
   "metadata": {},
   "outputs": [],
   "source": [
    "y_pred = model.predict(X_test)"
   ]
  },
  {
   "cell_type": "markdown",
   "metadata": {},
   "source": [
    "Let calculate the acuracy score."
   ]
  },
  {
   "cell_type": "code",
   "execution_count": 52,
   "metadata": {},
   "outputs": [
    {
     "data": {
      "text/plain": [
       "0.5355207409597005"
      ]
     },
     "execution_count": 52,
     "metadata": {},
     "output_type": "execute_result"
    }
   ],
   "source": [
    "accuracy_score(y_test,y_pred)"
   ]
  },
  {
   "cell_type": "code",
   "execution_count": 53,
   "metadata": {},
   "outputs": [
    {
     "data": {
      "text/plain": [
       "DecisionTreeClassifier(class_weight=None, criterion='gini', max_depth=5,\n",
       "                       max_features=None, max_leaf_nodes=None,\n",
       "                       min_impurity_decrease=0.0, min_impurity_split=None,\n",
       "                       min_samples_leaf=1, min_samples_split=2,\n",
       "                       min_weight_fraction_leaf=0.0, presort=False,\n",
       "                       random_state=None, splitter='best')"
      ]
     },
     "execution_count": 53,
     "metadata": {},
     "output_type": "execute_result"
    }
   ],
   "source": [
    "model = DecisionTreeClassifier(max_depth=5)\n",
    "model.fit(X_train,y_train)"
   ]
  },
  {
   "cell_type": "code",
   "execution_count": 54,
   "metadata": {},
   "outputs": [
    {
     "data": {
      "text/plain": [
       "0.5596610503497882"
      ]
     },
     "execution_count": 54,
     "metadata": {},
     "output_type": "execute_result"
    }
   ],
   "source": [
    "y_pred = model.predict(X_test)\n",
    "accuracy_score(y_test,y_pred)"
   ]
  },
  {
   "cell_type": "code",
   "execution_count": 56,
   "metadata": {},
   "outputs": [
    {
     "data": {
      "text/plain": [
       "array([[1480, 1008,  979],\n",
       "       [ 696, 2073,  511],\n",
       "       [ 842,  433, 2127]])"
      ]
     },
     "execution_count": 56,
     "metadata": {},
     "output_type": "execute_result"
    }
   ],
   "source": [
    "metrics.confusion_matrix(y_test,y_pred)"
   ]
  },
  {
   "cell_type": "markdown",
   "metadata": {},
   "source": [
    "Lets calculate the precesion and recall"
   ]
  },
  {
   "cell_type": "code",
   "execution_count": 62,
   "metadata": {},
   "outputs": [
    {
     "data": {
      "text/plain": [
       "0.5613715614165754"
      ]
     },
     "execution_count": 62,
     "metadata": {},
     "output_type": "execute_result"
    }
   ],
   "source": [
    "metrics.recall_score(y_test,y_pred, average='macro')"
   ]
  },
  {
   "cell_type": "code",
   "execution_count": 63,
   "metadata": {},
   "outputs": [
    {
     "data": {
      "text/plain": [
       "0.5561244659951273"
      ]
     },
     "execution_count": 63,
     "metadata": {},
     "output_type": "execute_result"
    }
   ],
   "source": [
    "metrics.precision_score(y_test,y_pred,average='macro')"
   ]
  },
  {
   "cell_type": "markdown",
   "metadata": {},
   "source": [
    "### Part 4: Report your findings (BI)"
   ]
  },
  {
   "cell_type": "code",
   "execution_count": null,
   "metadata": {},
   "outputs": [],
   "source": []
  }
 ],
 "metadata": {
  "kernelspec": {
   "display_name": "Python 3",
   "language": "python",
   "name": "python3"
  },
  "language_info": {
   "codemirror_mode": {
    "name": "ipython",
    "version": 3
   },
   "file_extension": ".py",
   "mimetype": "text/x-python",
   "name": "python",
   "nbconvert_exporter": "python",
   "pygments_lexer": "ipython3",
   "version": "3.6.3"
  }
 },
 "nbformat": 4,
 "nbformat_minor": 2
}
