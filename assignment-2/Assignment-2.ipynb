{
 "cells": [
  {
   "cell_type": "code",
   "execution_count": 2,
   "metadata": {},
   "outputs": [],
   "source": [
    "import os\n",
    "from os.path import join\n",
    "import pandas as pd\n",
    "from tqdm import tqdm\n",
    "from geopy.geocoders import Nominatim\n",
    "from statistics import mean"
   ]
  },
  {
   "cell_type": "code",
   "execution_count": 3,
   "metadata": {},
   "outputs": [],
   "source": [
    "def get_locations(address, zip_code):\n",
    "    try:\n",
    "        # This removes information about a flats storey\n",
    "        address_field = address.split(', ')[0]\n",
    "        # This one removes trailing letters on the city name\n",
    "        # It seems as if Openstreetmap cannot handle København H\n",
    "        # but it works with København\n",
    "        zip_field = ' '.join(zip_code.split(' ')[:-1])\n",
    "        search_address = ', '.join([address_field, zip_field])\n",
    "\n",
    "        geolocator = Nominatim()\n",
    "        print('here')\n",
    "        location = geolocator.geocode(search_address)\n",
    "        print('after')\n",
    "        return location.latitude, location.longitude\n",
    "    except:\n",
    "        print('Skipped geocoding of {} {}'.format(address, zip_code))\n",
    "        return None, None"
   ]
  },
  {
   "cell_type": "code",
   "execution_count": 4,
   "metadata": {},
   "outputs": [],
   "source": [
    "def remove_city_name(zip_code):\n",
    "    return ' '.join(zip_code.split(' ')[:-2])"
   ]
  },
  {
   "cell_type": "code",
   "execution_count": 5,
   "metadata": {},
   "outputs": [],
   "source": [
    "def create_data_frame():\n",
    "    li = []\n",
    "    for filename in os.listdir('./boliga_stats'):\n",
    "        #filename = os.path.join(os.getcwd(),filename)\n",
    "        df = pd.read_csv(os.path.join('./boliga_stats',filename), index_col=None, header=0)\n",
    "        li.append(df)\n",
    "\n",
    "    return pd.concat(li, axis=0, ignore_index=True)"
   ]
  },
  {
   "cell_type": "code",
   "execution_count": 6,
   "metadata": {},
   "outputs": [],
   "source": [
    "def create_city_csv(dataframe, year):\n",
    "    cities = {\n",
    "              'Odense': '5000',\n",
    "              'København': '1049',\n",
    "              'Aarhus': '8000',\n",
    "              'Aalborg': '9000'}\n",
    "    folder_path = join(os.getcwd(),year)          \n",
    "    if not os.path.exists(folder_path):\n",
    "        os.mkdir(folder_path)\n",
    "        \n",
    "    for city in cities:\n",
    "        mask = (dataframe['zip_code_num'] == cities[city])\n",
    "        dataf = dataframe[mask]\n",
    "        dataf.to_csv('./' + year + '/' + city + \".csv\", index=False,encoding='utf-8')"
   ]
  },
  {
   "cell_type": "code",
   "execution_count": 7,
   "metadata": {},
   "outputs": [],
   "source": [
    "df = pd.read_csv('./test.csv', index_col=None, header=0)"
   ]
  },
  {
   "cell_type": "markdown",
   "metadata": {},
   "source": [
    "Converting the sell_date to date time."
   ]
  },
  {
   "cell_type": "code",
   "execution_count": 8,
   "metadata": {},
   "outputs": [],
   "source": [
    "df['sell_date'] = pd.to_datetime(df['sell_date'],format='%d-%m-%Y')"
   ]
  },
  {
   "cell_type": "code",
   "execution_count": 10,
   "metadata": {},
   "outputs": [],
   "source": [
    "# Create a  new column which only contain the zip code.\n",
    "df['zip_code_num'] = df.apply(lambda x: remove_city_name(x['zip_code']), axis=1)"
   ]
  },
  {
   "cell_type": "code",
   "execution_count": 12,
   "metadata": {},
   "outputs": [],
   "source": [
    "#Generate the 2 masks we need. \n",
    "mask_1992 = ((df['sell_date'].dt.year == 1992) & \n",
    "     ((df['zip_code_num'] == '1050') | (df['zip_code_num'] == '1049') | (df['zip_code_num'] == '5000') | \n",
    "     (df['zip_code_num'] == '8000') | (df['zip_code_num'] == '9000'))\n",
    "     )\n",
    "\n",
    "mask_2016 = ((df['sell_date'].dt.year == 2016) & \n",
    "     ((df['zip_code_num'] == '1050') | (df['zip_code_num'] == '1049') | (['zip_code_num'] == '5000') | \n",
    "     (['zip_code_num'] == '8000') | (['zip_code_num'] == '9000'))\n",
    "     )"
   ]
  },
  {
   "cell_type": "code",
   "execution_count": 13,
   "metadata": {},
   "outputs": [
    {
     "name": "stdout",
     "output_type": "stream",
     "text": [
      "Average price per square meter for the year 1992 is 45287.5 m²\n",
      "Average price per square meter for the year 2016 is 1851 m²\n"
     ]
    }
   ],
   "source": [
    "#Calculate the average square meter prices.\n",
    "print('Average price per square meter for the year 1992 is {} m\\u00b2'.format(mean(df[mask_1992]['price_per_sq_m'])),)\n",
    "print('Average price per square meter for the year 2016 is {} m\\u00b2'.format(mean(df[mask_2016]['price_per_sq_m'])),)"
   ]
  },
  {
   "cell_type": "code",
   "execution_count": 16,
   "metadata": {},
   "outputs": [],
   "source": [
    "# Create two folder one for each year containing a csv for each of the zip codes specified in the assignment.\n",
    "create_city_csv(df[mask_1992], '1992')\n",
    "create_city_csv(df[mask_2016], '2016')"
   ]
  }
 ],
 "metadata": {
  "kernelspec": {
   "display_name": "Python 3",
   "language": "python",
   "name": "python3"
  },
  "language_info": {
   "codemirror_mode": {
    "name": "ipython",
    "version": 3
   },
   "file_extension": ".py",
   "mimetype": "text/x-python",
   "name": "python",
   "nbconvert_exporter": "python",
   "pygments_lexer": "ipython3",
   "version": "3.6.3"
  }
 },
 "nbformat": 4,
 "nbformat_minor": 2
}
