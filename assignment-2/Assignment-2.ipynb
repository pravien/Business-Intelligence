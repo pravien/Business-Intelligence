{
 "cells": [
  {
   "cell_type": "code",
   "execution_count": 1,
   "metadata": {},
   "outputs": [],
   "source": [
    "import os\n",
    "from os.path import join\n",
    "import pandas as pd\n",
    "from tqdm import tqdm\n",
    "from geopy.geocoders import Nominatim\n",
    "from statistics import mean\n",
    "import numpy as np\n",
    "from matplotlib import pyplot as plt\n",
    "import math\n",
    "import json"
   ]
  },
  {
   "cell_type": "code",
   "execution_count": 2,
   "metadata": {},
   "outputs": [],
   "source": [
    "def get_locations(address, zip_code):\n",
    "    try:\n",
    "        # This removes information about a flats storey\n",
    "        address_field = address.split(', ')[0]\n",
    "        # This one removes trailing letters on the city name\n",
    "        # It seems as if Openstreetmap cannot handle København H\n",
    "        # but it works with København\n",
    "        zip_field = ' '.join(zip_code.split(' ')[:-1])\n",
    "        search_address = ', '.join([address_field, zip_field])\n",
    "\n",
    "        geolocator = Nominatim()\n",
    "        location = geolocator.geocode(search_address)\n",
    "        return location.latitude, location.longitude\n",
    "    except:\n",
    "        print('Skipped geocoding of {} {}'.format(address, zip_code))\n",
    "        return None, None"
   ]
  },
  {
   "cell_type": "code",
   "execution_count": 3,
   "metadata": {},
   "outputs": [],
   "source": [
    "def haversine_distance(origin, destination):\n",
    "\n",
    "    lat_orig, lon_orig = origin\n",
    "    lat_dest, lon_dest = destination\n",
    "    radius = 6371\n",
    "\n",
    "    dlat = math.radians(lat_dest-lat_orig)\n",
    "    dlon = math.radians(lon_dest-lon_orig)\n",
    "    a = (math.sin(dlat / 2) * math.sin(dlat / 2) + math.cos(math.radians(lat_orig)) \n",
    "        * math.cos(math.radians(lat_dest)) * math.sin(dlon / 2) * math.sin(dlon / 2))\n",
    "    c = 2 * math.atan2(math.sqrt(a), math.sqrt(1 - a))\n",
    "    d = radius * c\n",
    "\n",
    "    return d"
   ]
  },
  {
   "cell_type": "code",
   "execution_count": 4,
   "metadata": {},
   "outputs": [],
   "source": [
    "def remove_city_name(zip_code):\n",
    "    return str(zip_code.split(' ')[0])"
   ]
  },
  {
   "cell_type": "code",
   "execution_count": 5,
   "metadata": {},
   "outputs": [],
   "source": [
    "def create_data_frame():\n",
    "    li = []\n",
    "    for filename in os.listdir('./boliga_stats'):\n",
    "        #filename = os.path.join(os.getcwd(),filename)\n",
    "        df = pd.read_csv(os.path.join('./boliga_stats',filename), index_col=None, header=0)\n",
    "        li.append(df)\n",
    "\n",
    "    return pd.concat(li, axis=0, ignore_index=True)"
   ]
  },
  {
   "cell_type": "code",
   "execution_count": 45,
   "metadata": {},
   "outputs": [],
   "source": [
    "def create_city_csv(dataframe, year):\n",
    "    cities = {\n",
    "              'Odense': '5000',\n",
    "              'København': '1050',\n",
    "              'Aarhus': '8000',\n",
    "              'Aalborg': '9000'}\n",
    "    folder_path = join(os.getcwd(),year)          \n",
    "    if not os.path.exists(folder_path):\n",
    "        os.mkdir(folder_path)\n",
    "        \n",
    "    for city in cities:\n",
    "        mask = ((dataframe['zip_code_num'] == cities[city]) & (df['sell_date'].dt.year == int(year)))\n",
    "        dataf = dataframe[mask]\n",
    "        dataf.to_csv('./' + year + '/' + city + \".csv\", index=False,encoding='utf-8')"
   ]
  },
  {
   "cell_type": "code",
   "execution_count": 40,
   "metadata": {},
   "outputs": [],
   "source": [
    "def calulate_avg_year(df,mask,year,zipcode):\n",
    "    temp = df[mask]\n",
    "    temp = temp.dropna(subset=['price_per_sq_m'])\n",
    "    if not temp.empty:\n",
    "        #print('Average price per square meter for the zip code {} in the year {} is {} pr. m\\u00b2\\n'.format(\n",
    "          #  zipcode,year,mean(temp['price_per_sq_m'])))\n",
    "        return mean(temp['price_per_sq_m'])\n",
    "    else:\n",
    "        #print('Average price per square meter for the zip code {} in the year {} is {} pr. m\\u00b2\\n'.format(\n",
    "         #   zipcode,year,0))\n",
    "        return 0\n",
    "    "
   ]
  },
  {
   "cell_type": "code",
   "execution_count": 8,
   "metadata": {},
   "outputs": [],
   "source": [
    "def get_number_and_street(address):\n",
    "    street = ''\n",
    "    house_number = '' \n",
    "    is_number = False\n",
    "    for elem in address:\n",
    "        if is_number:\n",
    "            if not elem.isnumeric():\n",
    "                if elem not in [',','.',' ']:\n",
    "                    house_number+=elem\n",
    "                    break\n",
    "                break    \n",
    "            house_number+=elem\n",
    "        elif elem.isnumeric():\n",
    "            is_number = True\n",
    "            house_number+=elem\n",
    "        else:\n",
    "            street+=elem      \n",
    "    return  street.strip(),house_number.strip()       \n",
    "        \n",
    "        "
   ]
  },
  {
   "cell_type": "code",
   "execution_count": 9,
   "metadata": {},
   "outputs": [],
   "source": [
    "def get_geo_code(address,zip_code,geo_codes):\n",
    "    street, house_number = get_number_and_street(address)\n",
    "    try:\n",
    "        _zip_code = geo_codes[zip_code]\n",
    "        if street in _zip_code:\n",
    "            _street = _zip_code[street]\n",
    "            if house_number in _street:\n",
    "                return tuple(_street[house_number])\n",
    "        if len(_zip_code.keys()) == 1:\n",
    "            key = next(iter(_zip_code))   \n",
    "            return tuple(_zip_code[key][house_number])\n",
    "        elif house_number in _zip_code:\n",
    "            return tuple(_zip_code[house_number])\n",
    "        else:\n",
    "            return (None,None)\n",
    "    except Exception as e:\n",
    "        print('Key {} not found. Address was {} {} {}'.format(e,street,house_number,zip_code))\n",
    "        return (None,None)"
   ]
  },
  {
   "cell_type": "markdown",
   "metadata": {},
   "source": [
    "### Read the entire dataset of Danish housing sales data, from Boliga"
   ]
  },
  {
   "cell_type": "code",
   "execution_count": 10,
   "metadata": {},
   "outputs": [],
   "source": [
    "# creates the dataframe.\n",
    "df = create_data_frame()"
   ]
  },
  {
   "cell_type": "code",
   "execution_count": 11,
   "metadata": {},
   "outputs": [],
   "source": [
    "# Create a  new column which only contain the zip code.\n",
    "df['zip_code_num'] = df.apply(lambda x: remove_city_name(x['zip_code']), axis=1)"
   ]
  },
  {
   "cell_type": "code",
   "execution_count": 12,
   "metadata": {},
   "outputs": [
    {
     "data": {
      "text/html": [
       "<div>\n",
       "<style scoped>\n",
       "    .dataframe tbody tr th:only-of-type {\n",
       "        vertical-align: middle;\n",
       "    }\n",
       "\n",
       "    .dataframe tbody tr th {\n",
       "        vertical-align: top;\n",
       "    }\n",
       "\n",
       "    .dataframe thead th {\n",
       "        text-align: right;\n",
       "    }\n",
       "</style>\n",
       "<table border=\"1\" class=\"dataframe\">\n",
       "  <thead>\n",
       "    <tr style=\"text-align: right;\">\n",
       "      <th></th>\n",
       "      <th>address</th>\n",
       "      <th>zip_code</th>\n",
       "      <th>price</th>\n",
       "      <th>sell_date</th>\n",
       "      <th>sell_type</th>\n",
       "      <th>price_per_sq_m</th>\n",
       "      <th>no_rooms</th>\n",
       "      <th>housing_type</th>\n",
       "      <th>size_in_sq_m</th>\n",
       "      <th>year_of_construction</th>\n",
       "      <th>price_change_in_pct</th>\n",
       "      <th>zip_code_num</th>\n",
       "    </tr>\n",
       "  </thead>\n",
       "  <tbody>\n",
       "    <tr>\n",
       "      <td>0</td>\n",
       "      <td>Nykøbingvej 23</td>\n",
       "      <td>4460 Snertinge</td>\n",
       "      <td>150000</td>\n",
       "      <td>05-04-2017</td>\n",
       "      <td>Alm. Salg</td>\n",
       "      <td>1209.0</td>\n",
       "      <td>4.0</td>\n",
       "      <td>Villa</td>\n",
       "      <td>124.0</td>\n",
       "      <td>1934.0</td>\n",
       "      <td>0.0</td>\n",
       "      <td>4460</td>\n",
       "    </tr>\n",
       "    <tr>\n",
       "      <td>1</td>\n",
       "      <td>Bakkekammen 5</td>\n",
       "      <td>4460 Snertinge</td>\n",
       "      <td>1145000</td>\n",
       "      <td>24-03-2017</td>\n",
       "      <td>Alm. Salg</td>\n",
       "      <td>9015.0</td>\n",
       "      <td>3.0</td>\n",
       "      <td>Villa</td>\n",
       "      <td>127.0</td>\n",
       "      <td>1971.0</td>\n",
       "      <td>-4.0</td>\n",
       "      <td>4460</td>\n",
       "    </tr>\n",
       "    <tr>\n",
       "      <td>2</td>\n",
       "      <td>Æblekjærvej 11</td>\n",
       "      <td>4460 Snertinge</td>\n",
       "      <td>700000</td>\n",
       "      <td>15-02-2017</td>\n",
       "      <td>Alm. Salg</td>\n",
       "      <td>6666.0</td>\n",
       "      <td>3.0</td>\n",
       "      <td>Villa</td>\n",
       "      <td>105.0</td>\n",
       "      <td>1946.0</td>\n",
       "      <td>-12.0</td>\n",
       "      <td>4460</td>\n",
       "    </tr>\n",
       "    <tr>\n",
       "      <td>3</td>\n",
       "      <td>Bakkekammen 7</td>\n",
       "      <td>4460 Snertinge</td>\n",
       "      <td>920000</td>\n",
       "      <td>30-01-2017</td>\n",
       "      <td>Alm. Salg</td>\n",
       "      <td>8518.0</td>\n",
       "      <td>4.0</td>\n",
       "      <td>Villa</td>\n",
       "      <td>108.0</td>\n",
       "      <td>1966.0</td>\n",
       "      <td>-3.0</td>\n",
       "      <td>4460</td>\n",
       "    </tr>\n",
       "    <tr>\n",
       "      <td>4</td>\n",
       "      <td>Tværvej 4</td>\n",
       "      <td>4460 Snertinge</td>\n",
       "      <td>300000</td>\n",
       "      <td>01-12-2016</td>\n",
       "      <td>Alm. Salg</td>\n",
       "      <td>3061.0</td>\n",
       "      <td>3.0</td>\n",
       "      <td>Villa</td>\n",
       "      <td>98.0</td>\n",
       "      <td>1964.0</td>\n",
       "      <td>0.0</td>\n",
       "      <td>4460</td>\n",
       "    </tr>\n",
       "  </tbody>\n",
       "</table>\n",
       "</div>"
      ],
      "text/plain": [
       "          address        zip_code    price   sell_date  sell_type  \\\n",
       "0  Nykøbingvej 23  4460 Snertinge   150000  05-04-2017  Alm. Salg   \n",
       "1   Bakkekammen 5  4460 Snertinge  1145000  24-03-2017  Alm. Salg   \n",
       "2  Æblekjærvej 11  4460 Snertinge   700000  15-02-2017  Alm. Salg   \n",
       "3   Bakkekammen 7  4460 Snertinge   920000  30-01-2017  Alm. Salg   \n",
       "4       Tværvej 4  4460 Snertinge   300000  01-12-2016  Alm. Salg   \n",
       "\n",
       "   price_per_sq_m  no_rooms housing_type  size_in_sq_m  year_of_construction  \\\n",
       "0          1209.0       4.0        Villa         124.0                1934.0   \n",
       "1          9015.0       3.0        Villa         127.0                1971.0   \n",
       "2          6666.0       3.0        Villa         105.0                1946.0   \n",
       "3          8518.0       4.0        Villa         108.0                1966.0   \n",
       "4          3061.0       3.0        Villa          98.0                1964.0   \n",
       "\n",
       "   price_change_in_pct zip_code_num  \n",
       "0                  0.0         4460  \n",
       "1                 -4.0         4460  \n",
       "2                -12.0         4460  \n",
       "3                 -3.0         4460  \n",
       "4                  0.0         4460  "
      ]
     },
     "execution_count": 12,
     "metadata": {},
     "output_type": "execute_result"
    }
   ],
   "source": [
    "df.head()"
   ]
  },
  {
   "cell_type": "markdown",
   "metadata": {},
   "source": [
    "### Geocode the the entire dataset of Danish housing sales data"
   ]
  },
  {
   "cell_type": "markdown",
   "metadata": {},
   "source": [
    "We read the file containg the geocodes."
   ]
  },
  {
   "cell_type": "code",
   "execution_count": 14,
   "metadata": {},
   "outputs": [],
   "source": [
    "with open('./data/postcodes.json') as fil:\n",
    "     data = json.load(fil)"
   ]
  },
  {
   "cell_type": "markdown",
   "metadata": {},
   "source": [
    "We find the longitude and latitude for all of the adresses."
   ]
  },
  {
   "cell_type": "code",
   "execution_count": 15,
   "metadata": {},
   "outputs": [],
   "source": [
    "df['long'],df['lat'] = zip(*df.apply(lambda row : get_geo_code(row['address'],row['zip_code_num'],data), axis=1))"
   ]
  },
  {
   "cell_type": "code",
   "execution_count": 16,
   "metadata": {},
   "outputs": [],
   "source": [
    "# removing values where the lattitude and longitude is None.\n",
    "df = df.dropna()"
   ]
  },
  {
   "cell_type": "code",
   "execution_count": 18,
   "metadata": {},
   "outputs": [],
   "source": [
    "df.to_csv('./house_sale_data_with_geocodes.csv', index=False,encoding='utf-8')"
   ]
  },
  {
   "cell_type": "markdown",
   "metadata": {},
   "source": [
    "### Convert all sales dates in the dataset into proper datetime objects"
   ]
  },
  {
   "cell_type": "code",
   "execution_count": 26,
   "metadata": {},
   "outputs": [],
   "source": [
    "df['sell_date'] = pd.to_datetime(df['sell_date'],format='%d-%m-%Y')"
   ]
  },
  {
   "cell_type": "markdown",
   "metadata": {},
   "source": [
    "### Compute the average price per square meter for the years 1992 and 2016"
   ]
  },
  {
   "cell_type": "code",
   "execution_count": 27,
   "metadata": {},
   "outputs": [],
   "source": [
    "#Generate the masks we need. \n",
    "mask_1992 = ((df['sell_date'].dt.year == 1992) & \n",
    "     ((df['zip_code_num'] == '1050') | (df['zip_code_num'] == '1049') | (df['zip_code_num'] == '5000') | \n",
    "     (df['zip_code_num'] == '8000') | (df['zip_code_num'] == '9000'))\n",
    "     )\n",
    "\n",
    "\n",
    "mask_2016 = ((df['sell_date'].dt.year == 2016) & \n",
    "     ((df['zip_code_num'] == '1050') | (df['zip_code_num'] == '1049') | (df['zip_code_num'] == '5000') | \n",
    "     (df['zip_code_num'] == '8000') | (df['zip_code_num'] == '9000'))\n",
    "     )\n",
    "\n",
    "\n",
    "mask_1992_1050_1049 = ((df['sell_date'].dt.year == 1992) & \n",
    "     ((df['zip_code_num'] == '1050') | (df['zip_code_num'] == '1049')))\n",
    "\n",
    "mask_1992_5000 = ((df['sell_date'].dt.year == 1992) & \n",
    "     ((df['zip_code_num'] == '5000')))  \n",
    "                  \n",
    "mask_1992_8000 = ((df['sell_date'].dt.year == 1992) & \n",
    "     ((df['zip_code_num'] == '8000')))    \n",
    "\n",
    "mask_1992_9000 = ((df['sell_date'].dt.year == 1992) & \n",
    "     ((df['zip_code_num'] == '9000')))\n",
    "\n",
    "\n",
    "mask_2016_1050_1049 = ((df['sell_date'].dt.year == 2016) & \n",
    "     ((df['zip_code_num'] == '1050') | (df['zip_code_num'] == '1049')))\n",
    "\n",
    "mask_2016_5000 = ((df['sell_date'].dt.year == 2016) & \n",
    "     ((df['zip_code_num'] == '5000')))\n",
    "\n",
    "mask_2016_8000 = ((df['sell_date'].dt.year == 2016) & \n",
    "     ((df['zip_code_num'] == '8000')))\n",
    "\n",
    "mask_2016_9000 = ((df['sell_date'].dt.year == 2016) & \n",
    "     ((df['zip_code_num'] == '9000')))\n",
    "\n",
    "                  "
   ]
  },
  {
   "cell_type": "code",
   "execution_count": 28,
   "metadata": {},
   "outputs": [],
   "source": [
    "masks = [\n",
    "    (mask_1992_1050_1049,'1050-1049','1992'),\n",
    "    (mask_1992_5000,'5000','1992'),\n",
    "    (mask_1992_8000,'8000','1992'),\n",
    "    (mask_1992_9000,'9000','1992'),\n",
    "    (mask_2016_1050_1049,'1050-1049','2016'),\n",
    "    (mask_2016_5000,'5000','2016'),\n",
    "    (mask_2016_8000,'8000','2016'),\n",
    "    (mask_2016_9000,'9000','2016')\n",
    "]"
   ]
  },
  {
   "cell_type": "markdown",
   "metadata": {},
   "source": [
    "Here we calcualte the average prices for 1992 and 2016."
   ]
  },
  {
   "cell_type": "code",
   "execution_count": 43,
   "metadata": {},
   "outputs": [],
   "source": [
    "list_1992 = []\n",
    "list_2016 = []\n",
    "for mask,zip_code,year in masks:\n",
    "    avg_sqr_price = calulate_avg_year(df,mask,year,zip_code)\n",
    "    if year == '1992':\n",
    "        list_1992.append((zip_code,avg_sqr_price))\n",
    "    else:\n",
    "        list_2016.append((zip_code,avg_sqr_price))\n",
    "\n",
    "df_2016 = pd.DataFrame(list_2016,columns=['zipcode', 'avg_sqr_m_price'])\n",
    "df_1992 = pd.DataFrame(list_1992,columns=['zipcode', 'avg_sqr_m_price'])"
   ]
  },
  {
   "cell_type": "markdown",
   "metadata": {},
   "source": [
    "### Create, with the help of the pandas module, four new CSV files containing the sales data for the year 1992 for the city centers of Copenhagen (zip code 1050-1049), Odense (zip code 5000), Aarhus (zip code 8000), and Aalborg (zip code 9000)"
   ]
  },
  {
   "cell_type": "code",
   "execution_count": 48,
   "metadata": {},
   "outputs": [],
   "source": [
    "# Creates a folder called 1992 and creates 4 csv files.\n",
    "create_city_csv(df, '1992')"
   ]
  },
  {
   "cell_type": "markdown",
   "metadata": {},
   "source": [
    "### Create a 2-dimensional scatter plot, which contains a dot for each location in the dataset of Danish housing sales data. Plot the longitude values on the x- axis and plot the latitude values on the y-axis."
   ]
  },
  {
   "cell_type": "code",
   "execution_count": 49,
   "metadata": {},
   "outputs": [
    {
     "data": {
      "image/png": "[encoded data removed]",
      "text/plain": [
       "<Figure size 432x288 with 1 Axes>"
      ]
     },
     "metadata": {
      "needs_background": "light"
     },
     "output_type": "display_data"
    }
   ],
   "source": [
    "%matplotlib inline\n",
    "plt.scatter(df['long'],df['lat'])\n",
    "plt.savefig('plot-1.png')"
   ]
  },
  {
   "cell_type": "markdown",
   "metadata": {},
   "source": [
    "### computes the Haversine Distance"
   ]
  },
  {
   "cell_type": "code",
   "execution_count": 50,
   "metadata": {},
   "outputs": [
    {
     "data": {
      "image/png": "[encoded data removed]",
      "text/plain": [
       "<Figure size 432x288 with 2 Axes>"
      ]
     },
     "metadata": {
      "needs_background": "light"
     },
     "output_type": "display_data"
    }
   ],
   "source": [
    "distances = []\n",
    "for i in zip(df.lat,df.long):\n",
    "    distances.append(haversine_distance(i,(55.65, 12.083333)))\n",
    "plt.scatter(df.long,df.lat,c=distances) \n",
    "plt.colorbar()\n",
    "plt.savefig('plot-2.png')"
   ]
  }
 ],
 "metadata": {
  "kernelspec": {
   "display_name": "Python 3",
   "language": "python",
   "name": "python3"
  },
  "language_info": {
   "codemirror_mode": {
    "name": "ipython",
    "version": 3
   },
   "file_extension": ".py",
   "mimetype": "text/x-python",
   "name": "python",
   "nbconvert_exporter": "python",
   "pygments_lexer": "ipython3",
   "version": "3.6.3"
  }
 },
 "nbformat": 4,
 "nbformat_minor": 2
}
