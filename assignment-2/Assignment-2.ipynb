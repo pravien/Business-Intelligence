{
 "cells": [
  {
   "cell_type": "code",
   "execution_count": 155,
   "metadata": {},
   "outputs": [],
   "source": [
    "import os\n",
    "from os.path import join\n",
    "import pandas as pd\n",
    "from tqdm import tqdm\n",
    "from geopy.geocoders import Nominatim\n",
    "from statistics import mean\n",
    "import numpy as np"
   ]
  },
  {
   "cell_type": "code",
   "execution_count": 2,
   "metadata": {},
   "outputs": [],
   "source": [
    "def get_locations(address, zip_code):\n",
    "    try:\n",
    "        # This removes information about a flats storey\n",
    "        address_field = address.split(', ')[0]\n",
    "        # This one removes trailing letters on the city name\n",
    "        # It seems as if Openstreetmap cannot handle København H\n",
    "        # but it works with København\n",
    "        zip_field = ' '.join(zip_code.split(' ')[:-1])\n",
    "        search_address = ', '.join([address_field, zip_field])\n",
    "\n",
    "        geolocator = Nominatim()\n",
    "        print('here')\n",
    "        location = geolocator.geocode(search_address)\n",
    "        print('after')\n",
    "        return location.latitude, location.longitude\n",
    "    except:\n",
    "        print('Skipped geocoding of {} {}'.format(address, zip_code))\n",
    "        return None, None"
   ]
  },
  {
   "cell_type": "code",
   "execution_count": 3,
   "metadata": {},
   "outputs": [],
   "source": [
    "def remove_city_name(zip_code):\n",
    "    return ' '.join(zip_code.split(' ')[:-2])"
   ]
  },
  {
   "cell_type": "code",
   "execution_count": 4,
   "metadata": {},
   "outputs": [],
   "source": [
    "def create_data_frame():\n",
    "    li = []\n",
    "    for filename in os.listdir('./boliga_stats'):\n",
    "        #filename = os.path.join(os.getcwd(),filename)\n",
    "        df = pd.read_csv(os.path.join('./boliga_stats',filename), index_col=None, header=0)\n",
    "        li.append(df)\n",
    "\n",
    "    return pd.concat(li, axis=0, ignore_index=True)"
   ]
  },
  {
   "cell_type": "code",
   "execution_count": 5,
   "metadata": {},
   "outputs": [],
   "source": [
    "def create_city_csv(dataframe, year):\n",
    "    cities = {\n",
    "              'Odense': '5000',\n",
    "              'København': '1049',\n",
    "              'Aarhus': '8000',\n",
    "              'Aalborg': '9000'}\n",
    "    folder_path = join(os.getcwd(),year)          \n",
    "    if not os.path.exists(folder_path):\n",
    "        os.mkdir(folder_path)\n",
    "        \n",
    "    for city in cities:\n",
    "        mask = (dataframe['zip_code_num'] == cities[city])\n",
    "        dataf = dataframe[mask]\n",
    "        dataf.to_csv('./' + year + '/' + city + \".csv\", index=False,encoding='utf-8')"
   ]
  },
  {
   "cell_type": "code",
   "execution_count": 224,
   "metadata": {},
   "outputs": [],
   "source": [
    "def calulate_avg_year(df,mask,year,zipcode):\n",
    "    temp = df[mask]\n",
    "    temp = temp.dropna(subset=['price_per_sq_m'])\n",
    "    if not temp.empty:\n",
    "        print('Average price per square meter for the zip code {} in the year {} is {} pr. m\\u00b2\\n'.format(\n",
    "            zipcode,year,mean(temp['price_per_sq_m'])))\n",
    "    else:\n",
    "        print('Average price per square meter for the zip code {} in the year {} is {} pr. m\\u00b2\\n'.format(\n",
    "            zipcode,year,0))\n",
    "    "
   ]
  },
  {
   "cell_type": "markdown",
   "metadata": {},
   "source": [
    "### ead the entire dataset of Danish housing sales data, from Boliga,"
   ]
  },
  {
   "cell_type": "code",
   "execution_count": 106,
   "metadata": {},
   "outputs": [],
   "source": [
    "# creates the dataframe.\n",
    "df = create_data_frame()"
   ]
  },
  {
   "cell_type": "markdown",
   "metadata": {},
   "source": [
    "### Convert all sales dates in the dataset into proper datetime objects"
   ]
  },
  {
   "cell_type": "code",
   "execution_count": 107,
   "metadata": {},
   "outputs": [],
   "source": [
    "df['sell_date'] = pd.to_datetime(df['sell_date'],format='%d-%m-%Y')"
   ]
  },
  {
   "cell_type": "markdown",
   "metadata": {},
   "source": [
    "### Compute the average price per square meter for the years 1992 and 2016"
   ]
  },
  {
   "cell_type": "code",
   "execution_count": 108,
   "metadata": {},
   "outputs": [],
   "source": [
    "# Create a  new column which only contain the zip code.\n",
    "df['zip_code_num'] = df.apply(lambda x: remove_city_name(x['zip_code']), axis=1)"
   ]
  },
  {
   "cell_type": "code",
   "execution_count": 214,
   "metadata": {},
   "outputs": [],
   "source": [
    "#Generate the masks we need. \n",
    "mask_1992 = ((df['sell_date'].dt.year == 1992) & \n",
    "     ((df['zip_code_num'] == '1050') | (df['zip_code_num'] == '1049') | (df['zip_code_num'] == '5000') | \n",
    "     (df['zip_code_num'] == '8000') | (df['zip_code_num'] == '9000'))\n",
    "     )\n",
    "\n",
    "\n",
    "mask_2016 = ((df['sell_date'].dt.year == 2016) & \n",
    "     ((df['zip_code_num'] == '1050') | (df['zip_code_num'] == '1049') | (df['zip_code_num'] == '5000') | \n",
    "     (df['zip_code_num'] == '8000') | (df['zip_code_num'] == '9000'))\n",
    "     )\n",
    "\n",
    "\n",
    "mask_1992_1050_1049 = ((df['sell_date'].dt.year == 1992) & \n",
    "     ((df['zip_code_num'] == '1050') | (df['zip_code_num'] == '1049')))\n",
    "\n",
    "mask_1992_5000 = ((df['sell_date'].dt.year == 1992) & \n",
    "     ((df['zip_code_num'] == '5000')))  \n",
    "                  \n",
    "mask_1992_8000 = ((df['sell_date'].dt.year == 1992) & \n",
    "     ((df['zip_code_num'] == '8000')))    \n",
    "\n",
    "mask_1992_9000 = ((df['sell_date'].dt.year == 1992) & \n",
    "     ((df['zip_code_num'] == '9000')))\n",
    "\n",
    "\n",
    "mask_2016_1050_1049 = ((df['sell_date'].dt.year == 2016) & \n",
    "     ((df['zip_code_num'] == '1050') | (df['zip_code_num'] == '1049')))\n",
    "\n",
    "mask_2016_5000 = ((df['sell_date'].dt.year == 2016) & \n",
    "     ((df['zip_code_num'] == '5000')))\n",
    "\n",
    "mask_2016_8000 = ((df['sell_date'].dt.year == 2016) & \n",
    "     ((df['zip_code_num'] == '8000')))\n",
    "\n",
    "mask_2016_9000 = ((df['sell_date'].dt.year == 2016) & \n",
    "     ((df['zip_code_num'] == '9000')))\n",
    "\n",
    "                  "
   ]
  },
  {
   "cell_type": "code",
   "execution_count": 220,
   "metadata": {},
   "outputs": [],
   "source": [
    "masks = [\n",
    "    (mask_1992_1050_1049,'1050-1049','1992'),\n",
    "    (mask_1992_5000,'5000','1992'),\n",
    "    (mask_1992_8000,'8000','1992'),\n",
    "    (mask_1992_9000,'9000','1992'),\n",
    "    (mask_2016_1050_1049,'1050-1049','2016'),\n",
    "    (mask_2016_5000,'5000','2016'),\n",
    "    (mask_2016_8000,'8000','2016'),\n",
    "    (mask_2016_9000,'9000','2016')\n",
    "]"
   ]
  },
  {
   "cell_type": "code",
   "execution_count": 225,
   "metadata": {},
   "outputs": [
    {
     "name": "stdout",
     "output_type": "stream",
     "text": [
      "Average price per square meter for the zip code 1050-1049 in the year 1992 is 0 pr. m²\n",
      "\n",
      "Average price per square meter for the zip code 5000 in the year 1992 is 5452.180722891566 pr. m²\n",
      "\n",
      "Average price per square meter for the zip code 8000 in the year 1992 is 7172.0327868852455 pr. m²\n",
      "\n",
      "Average price per square meter for the zip code 9000 in the year 1992 is 0 pr. m²\n",
      "\n",
      "Average price per square meter for the zip code 1050-1049 in the year 2016 is 0 pr. m²\n",
      "\n",
      "Average price per square meter for the zip code 5000 in the year 2016 is 19378.44211994421 pr. m²\n",
      "\n",
      "Average price per square meter for the zip code 8000 in the year 2016 is 33120.19696969697 pr. m²\n",
      "\n",
      "Average price per square meter for the zip code 9000 in the year 2016 is 0 pr. m²\n",
      "\n"
     ]
    }
   ],
   "source": [
    "for mask,zip_code,year in masks:\n",
    "    calulate_avg_year(df,mask,year,zip_code)"
   ]
  },
  {
   "cell_type": "code",
   "execution_count": 226,
   "metadata": {},
   "outputs": [
    {
     "name": "stdout",
     "output_type": "stream",
     "text": [
      "Average price per square meter for the year 1992 is 6180.729166666667 pr. m²\n",
      "Average price per square meter for the year 2016 is 28711.76823266219 pr. m²\n"
     ]
    }
   ],
   "source": [
    "#Calculate the average square meter prices.\n",
    "df_2016 = df[mask_2016]\n",
    "df_1992 = df[mask_1992]\n",
    "\n",
    "df_2016 = df_2016.dropna(subset=['price_per_sq_m'])\n",
    "df_1992 = df_1992.dropna(subset=['price_per_sq_m'])\n",
    "print('Average price per square meter for the year 1992 is {} pr. m\\u00b2'.format(mean(df_1992['price_per_sq_m'])))\n",
    "print('Average price per square meter for the year 2016 is {} pr. m\\u00b2'.format(mean(df_2016['price_per_sq_m'])))"
   ]
  },
  {
   "cell_type": "markdown",
   "metadata": {},
   "source": [
    "### Create, with the help of the pandas module, four new CSV files containing the sales data for the year 1992 for the city centers of Copenhagen (zip code 1050-1049), Odense (zip code 5000), Aarhus (zip code 8000), and Aalborg (zip code 9000)"
   ]
  },
  {
   "cell_type": "code",
   "execution_count": 192,
   "metadata": {},
   "outputs": [],
   "source": [
    "# Create two folder one for each year containing a csv for each of the zip codes specified in the assignment.\n",
    "create_city_csv(df[mask_1992], '1992')\n",
    "create_city_csv(df[mask_2016], '2016')"
   ]
  },
  {
   "cell_type": "markdown",
   "metadata": {},
   "source": [
    "### Create a 2-dimensional scatter plot, which contains a dot for each location in the dataset of Danish housing sales data. Plot the longitude values on the x- axis and plot the latitude values on the y-axis."
   ]
  },
  {
   "cell_type": "code",
   "execution_count": null,
   "metadata": {},
   "outputs": [],
   "source": []
  },
  {
   "cell_type": "markdown",
   "metadata": {},
   "source": [
    "### computes the Haversine Distance"
   ]
  },
  {
   "cell_type": "code",
   "execution_count": null,
   "metadata": {},
   "outputs": [],
   "source": []
  }
 ],
 "metadata": {
  "kernelspec": {
   "display_name": "Python 3",
   "language": "python",
   "name": "python3"
  },
  "language_info": {
   "codemirror_mode": {
    "name": "ipython",
    "version": 3
   },
   "file_extension": ".py",
   "mimetype": "text/x-python",
   "name": "python",
   "nbconvert_exporter": "python",
   "pygments_lexer": "ipython3",
   "version": "3.6.3"
  }
 },
 "nbformat": 4,
 "nbformat_minor": 2
}
