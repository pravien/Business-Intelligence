{
 "cells": [
  {
   "cell_type": "code",
   "execution_count": 180,
   "metadata": {},
   "outputs": [],
   "source": [
    "import os\n",
    "from os.path import join\n",
    "import pandas as pd\n",
    "from tqdm import tqdm\n",
    "from geopy.geocoders import Nominatim\n",
    "from statistics import mean\n",
    "import numpy as np\n",
    "from matplotlib import pyplot as plt\n",
    "import math\n",
    "import plotly.express as px\n",
    "import plotly.graph_objects as go"
   ]
  },
  {
   "cell_type": "code",
   "execution_count": 14,
   "metadata": {},
   "outputs": [],
   "source": [
    "def get_locations(address, zip_code):\n",
    "    try:\n",
    "        # This removes information about a flats storey\n",
    "        address_field = address.split(', ')[0]\n",
    "        # This one removes trailing letters on the city name\n",
    "        # It seems as if Openstreetmap cannot handle København H\n",
    "        # but it works with København\n",
    "        zip_field = ' '.join(zip_code.split(' ')[:-1])\n",
    "        search_address = ', '.join([address_field, zip_field])\n",
    "\n",
    "        geolocator = Nominatim()\n",
    "        location = geolocator.geocode(search_address)\n",
    "        return location.latitude, location.longitude\n",
    "    except:\n",
    "        print('Skipped geocoding of {} {}'.format(address, zip_code))\n",
    "        return None, None"
   ]
  },
  {
   "cell_type": "code",
   "execution_count": 65,
   "metadata": {},
   "outputs": [],
   "source": [
    "def haversine_distance(origin, destination):\n",
    "\n",
    "    lat_orig, lon_orig = origin\n",
    "    lat_dest, lon_dest = destination\n",
    "    radius = 6371\n",
    "\n",
    "    dlat = math.radians(lat_dest-lat_orig)\n",
    "    dlon = math.radians(lon_dest-lon_orig)\n",
    "    a = (math.sin(dlat / 2) * math.sin(dlat / 2) + math.cos(math.radians(lat_orig)) \n",
    "        * math.cos(math.radians(lat_dest)) * math.sin(dlon / 2) * math.sin(dlon / 2))\n",
    "    c = 2 * math.atan2(math.sqrt(a), math.sqrt(1 - a))\n",
    "    d = radius * c\n",
    "\n",
    "    return d"
   ]
  },
  {
   "cell_type": "code",
   "execution_count": 3,
   "metadata": {},
   "outputs": [],
   "source": [
    "def remove_city_name(zip_code):\n",
    "    return ' '.join(zip_code.split(' ')[:-2])"
   ]
  },
  {
   "cell_type": "code",
   "execution_count": 4,
   "metadata": {},
   "outputs": [],
   "source": [
    "def create_data_frame():\n",
    "    li = []\n",
    "    for filename in os.listdir('./boliga_stats'):\n",
    "        #filename = os.path.join(os.getcwd(),filename)\n",
    "        df = pd.read_csv(os.path.join('./boliga_stats',filename), index_col=None, header=0)\n",
    "        li.append(df)\n",
    "\n",
    "    return pd.concat(li, axis=0, ignore_index=True)"
   ]
  },
  {
   "cell_type": "code",
   "execution_count": 5,
   "metadata": {},
   "outputs": [],
   "source": [
    "def create_city_csv(dataframe, year):\n",
    "    cities = {\n",
    "              'Odense': '5000',\n",
    "              'København': '1049',\n",
    "              'Aarhus': '8000',\n",
    "              'Aalborg': '9000'}\n",
    "    folder_path = join(os.getcwd(),year)          \n",
    "    if not os.path.exists(folder_path):\n",
    "        os.mkdir(folder_path)\n",
    "        \n",
    "    for city in cities:\n",
    "        mask = (dataframe['zip_code_num'] == cities[city])\n",
    "        dataf = dataframe[mask]\n",
    "        dataf.to_csv('./' + year + '/' + city + \".csv\", index=False,encoding='utf-8')"
   ]
  },
  {
   "cell_type": "code",
   "execution_count": 6,
   "metadata": {},
   "outputs": [],
   "source": [
    "def calulate_avg_year(df,mask,year,zipcode):\n",
    "    temp = df[mask]\n",
    "    temp = temp.dropna(subset=['price_per_sq_m'])\n",
    "    if not temp.empty:\n",
    "        print('Average price per square meter for the zip code {} in the year {} is {} pr. m\\u00b2\\n'.format(\n",
    "            zipcode,year,mean(temp['price_per_sq_m'])))\n",
    "    else:\n",
    "        print('Average price per square meter for the zip code {} in the year {} is {} pr. m\\u00b2\\n'.format(\n",
    "            zipcode,year,0))\n",
    "    "
   ]
  },
  {
   "cell_type": "markdown",
   "metadata": {},
   "source": [
    "### Read the entire dataset of Danish housing sales data, from Boliga"
   ]
  },
  {
   "cell_type": "code",
   "execution_count": 7,
   "metadata": {},
   "outputs": [],
   "source": [
    "# creates the dataframe.\n",
    "df = create_data_frame()"
   ]
  },
  {
   "cell_type": "markdown",
   "metadata": {},
   "source": [
    "### Geocode the the entire dataset of Danish housing sales data"
   ]
  },
  {
   "cell_type": "code",
   "execution_count": 147,
   "metadata": {},
   "outputs": [
    {
     "name": "stderr",
     "output_type": "stream",
     "text": [
      "/Users/pravien/Documents/Software_dev/semester_2/bi/venv-bi/lib/python3.6/site-packages/ipykernel_launcher.py:11: DeprecationWarning:\n",
      "\n",
      "Using Nominatim with the default \"geopy/1.20.0\" `user_agent` is strongly discouraged, as it violates Nominatim's ToS https://operations.osmfoundation.org/policies/nominatim/ and may possibly cause 403 and 429 HTTP errors. Please specify a custom `user_agent` with `Nominatim(user_agent=\"my-application\")` or by overriding the default `user_agent`: `geopy.geocoders.options.default_user_agent = \"my-application\"`. In geopy 2.0 this will become an exception.\n",
      "\n"
     ]
    },
    {
     "name": "stdout",
     "output_type": "stream",
     "text": [
      "Skipped geocoding of Plastvænget 10 9560 Hadsund\n",
      "Skipped geocoding of Håstrupvej 14 7000 Fredericia\n",
      "Skipped geocoding of Avlumvej 6 7400 Herning\n",
      "Skipped geocoding of Ydbyvej 176 7760 Hurup Thy\n",
      "Skipped geocoding of Gl Skansevej 21 9370 Hals\n"
     ]
    }
   ],
   "source": [
    "geocode = df.sample(n=40,replace=True, random_state=42)\n",
    "geocode['lat'],geocode['long']= zip(*geocode.apply (lambda row: get_locations(row['address'].split(',')[0],row['zip_code']), axis=1))"
   ]
  },
  {
   "cell_type": "code",
   "execution_count": 148,
   "metadata": {},
   "outputs": [],
   "source": [
    "# removing values where the lattitude and longitude is None.\n",
    "geocode = geocode.dropna()"
   ]
  },
  {
   "cell_type": "markdown",
   "metadata": {},
   "source": [
    "### Convert all sales dates in the dataset into proper datetime objects"
   ]
  },
  {
   "cell_type": "code",
   "execution_count": 107,
   "metadata": {},
   "outputs": [],
   "source": [
    "df['sell_date'] = pd.to_datetime(df['sell_date'],format='%d-%m-%Y')"
   ]
  },
  {
   "cell_type": "markdown",
   "metadata": {},
   "source": [
    "### Compute the average price per square meter for the years 1992 and 2016"
   ]
  },
  {
   "cell_type": "code",
   "execution_count": 108,
   "metadata": {},
   "outputs": [],
   "source": [
    "# Create a  new column which only contain the zip code.\n",
    "df['zip_code_num'] = df.apply(lambda x: remove_city_name(x['zip_code']), axis=1)"
   ]
  },
  {
   "cell_type": "code",
   "execution_count": 214,
   "metadata": {},
   "outputs": [],
   "source": [
    "#Generate the masks we need. \n",
    "mask_1992 = ((df['sell_date'].dt.year == 1992) & \n",
    "     ((df['zip_code_num'] == '1050') | (df['zip_code_num'] == '1049') | (df['zip_code_num'] == '5000') | \n",
    "     (df['zip_code_num'] == '8000') | (df['zip_code_num'] == '9000'))\n",
    "     )\n",
    "\n",
    "\n",
    "mask_2016 = ((df['sell_date'].dt.year == 2016) & \n",
    "     ((df['zip_code_num'] == '1050') | (df['zip_code_num'] == '1049') | (df['zip_code_num'] == '5000') | \n",
    "     (df['zip_code_num'] == '8000') | (df['zip_code_num'] == '9000'))\n",
    "     )\n",
    "\n",
    "\n",
    "mask_1992_1050_1049 = ((df['sell_date'].dt.year == 1992) & \n",
    "     ((df['zip_code_num'] == '1050') | (df['zip_code_num'] == '1049')))\n",
    "\n",
    "mask_1992_5000 = ((df['sell_date'].dt.year == 1992) & \n",
    "     ((df['zip_code_num'] == '5000')))  \n",
    "                  \n",
    "mask_1992_8000 = ((df['sell_date'].dt.year == 1992) & \n",
    "     ((df['zip_code_num'] == '8000')))    \n",
    "\n",
    "mask_1992_9000 = ((df['sell_date'].dt.year == 1992) & \n",
    "     ((df['zip_code_num'] == '9000')))\n",
    "\n",
    "\n",
    "mask_2016_1050_1049 = ((df['sell_date'].dt.year == 2016) & \n",
    "     ((df['zip_code_num'] == '1050') | (df['zip_code_num'] == '1049')))\n",
    "\n",
    "mask_2016_5000 = ((df['sell_date'].dt.year == 2016) & \n",
    "     ((df['zip_code_num'] == '5000')))\n",
    "\n",
    "mask_2016_8000 = ((df['sell_date'].dt.year == 2016) & \n",
    "     ((df['zip_code_num'] == '8000')))\n",
    "\n",
    "mask_2016_9000 = ((df['sell_date'].dt.year == 2016) & \n",
    "     ((df['zip_code_num'] == '9000')))\n",
    "\n",
    "                  "
   ]
  },
  {
   "cell_type": "code",
   "execution_count": 220,
   "metadata": {},
   "outputs": [],
   "source": [
    "masks = [\n",
    "    (mask_1992_1050_1049,'1050-1049','1992'),\n",
    "    (mask_1992_5000,'5000','1992'),\n",
    "    (mask_1992_8000,'8000','1992'),\n",
    "    (mask_1992_9000,'9000','1992'),\n",
    "    (mask_2016_1050_1049,'1050-1049','2016'),\n",
    "    (mask_2016_5000,'5000','2016'),\n",
    "    (mask_2016_8000,'8000','2016'),\n",
    "    (mask_2016_9000,'9000','2016')\n",
    "]"
   ]
  },
  {
   "cell_type": "code",
   "execution_count": 225,
   "metadata": {},
   "outputs": [
    {
     "name": "stdout",
     "output_type": "stream",
     "text": [
      "Average price per square meter for the zip code 1050-1049 in the year 1992 is 0 pr. m²\n",
      "\n",
      "Average price per square meter for the zip code 5000 in the year 1992 is 5452.180722891566 pr. m²\n",
      "\n",
      "Average price per square meter for the zip code 8000 in the year 1992 is 7172.0327868852455 pr. m²\n",
      "\n",
      "Average price per square meter for the zip code 9000 in the year 1992 is 0 pr. m²\n",
      "\n",
      "Average price per square meter for the zip code 1050-1049 in the year 2016 is 0 pr. m²\n",
      "\n",
      "Average price per square meter for the zip code 5000 in the year 2016 is 19378.44211994421 pr. m²\n",
      "\n",
      "Average price per square meter for the zip code 8000 in the year 2016 is 33120.19696969697 pr. m²\n",
      "\n",
      "Average price per square meter for the zip code 9000 in the year 2016 is 0 pr. m²\n",
      "\n"
     ]
    }
   ],
   "source": [
    "for mask,zip_code,year in masks:\n",
    "    calulate_avg_year(df,mask,year,zip_code)"
   ]
  },
  {
   "cell_type": "code",
   "execution_count": 226,
   "metadata": {},
   "outputs": [
    {
     "name": "stdout",
     "output_type": "stream",
     "text": [
      "Average price per square meter for the year 1992 is 6180.729166666667 pr. m²\n",
      "Average price per square meter for the year 2016 is 28711.76823266219 pr. m²\n"
     ]
    }
   ],
   "source": [
    "#Calculate the average square meter prices.\n",
    "df_2016 = df[mask_2016]\n",
    "df_1992 = df[mask_1992]\n",
    "\n",
    "df_2016 = df_2016.dropna(subset=['price_per_sq_m'])\n",
    "df_1992 = df_1992.dropna(subset=['price_per_sq_m'])\n",
    "print('Average price per square meter for the year 1992 is {} pr. m\\u00b2'.format(mean(df_1992['price_per_sq_m'])))\n",
    "print('Average price per square meter for the year 2016 is {} pr. m\\u00b2'.format(mean(df_2016['price_per_sq_m'])))"
   ]
  },
  {
   "cell_type": "markdown",
   "metadata": {},
   "source": [
    "### Create, with the help of the pandas module, four new CSV files containing the sales data for the year 1992 for the city centers of Copenhagen (zip code 1050-1049), Odense (zip code 5000), Aarhus (zip code 8000), and Aalborg (zip code 9000)"
   ]
  },
  {
   "cell_type": "code",
   "execution_count": 192,
   "metadata": {},
   "outputs": [],
   "source": [
    "# Create two folder one for each year containing a csv for each of the zip codes specified in the assignment.\n",
    "create_city_csv(df[mask_1992], '1992')\n",
    "create_city_csv(df[mask_2016], '2016')"
   ]
  },
  {
   "cell_type": "markdown",
   "metadata": {},
   "source": [
    "### Create a 2-dimensional scatter plot, which contains a dot for each location in the dataset of Danish housing sales data. Plot the longitude values on the x- axis and plot the latitude values on the y-axis."
   ]
  },
  {
   "cell_type": "code",
   "execution_count": 67,
   "metadata": {},
   "outputs": [
    {
     "data": {
      "text/plain": [
       "<matplotlib.collections.PathCollection at 0x12b692e10>"
      ]
     },
     "execution_count": 67,
     "metadata": {},
     "output_type": "execute_result"
    },
    {
     "data": {
      "image/png": "[encoded data removed]",
      "text/plain": [
       "<Figure size 432x288 with 1 Axes>"
      ]
     },
     "metadata": {
      "needs_background": "light"
     },
     "output_type": "display_data"
    }
   ],
   "source": [
    "%matplotlib inline\n",
    "plt.scatter(geocode['long'],geocode['lat'])"
   ]
  },
  {
   "cell_type": "markdown",
   "metadata": {},
   "source": [
    "### computes the Haversine Distance"
   ]
  },
  {
   "cell_type": "code",
   "execution_count": 151,
   "metadata": {},
   "outputs": [
    {
     "data": {
      "text/plain": [
       "<matplotlib.colorbar.Colorbar at 0x14e5df0f0>"
      ]
     },
     "execution_count": 151,
     "metadata": {},
     "output_type": "execute_result"
    },
    {
     "data": {
      "image/png": "[encoded data removed]",
      "text/plain": [
       "<Figure size 432x288 with 2 Axes>"
      ]
     },
     "metadata": {
      "needs_background": "light"
     },
     "output_type": "display_data"
    }
   ],
   "source": [
    "distances = []\n",
    "for i in zip(geocode.lat,geocode.long):\n",
    "    distances.append(haversine_distance(i,(55.65, 12.083333)))\n",
    "plt.scatter(geocode['long'],geocode['lat'],c=distances) \n",
    "plt.colorbar()"
   ]
  },
  {
   "cell_type": "markdown",
   "metadata": {},
   "source": [
    "### Plot on map"
   ]
  },
  {
   "cell_type": "code",
   "execution_count": 177,
   "metadata": {},
   "outputs": [],
   "source": [
    "geocode['distance'] = distances\n",
    "geocode['text'] = geocode['address'] + ' ' +geocode['zip_code']\n",
    "fig = go.Figure(data=go.Scattergeo(\n",
    "        lon = geocode['long'],\n",
    "        lat = geocode['lat'],\n",
    "        text = geocode['text'],\n",
    "        mode = 'markers',\n",
    "        marker_color = geocode['distance'],\n",
    "        ))"
   ]
  },
  {
   "cell_type": "code",
   "execution_count": 179,
   "metadata": {
    "scrolled": true
   },
   "outputs": [
    {
     "data": {
      "application/vnd.plotly.v1+json": {
       "config": {
        "plotlyServerURL": "https://plot.ly"
       },
       "data": [
        {
         "lat": [
          55.409988,
          54.920497,
          55.40088,
          55.74638,
          55.922702,
          55.700926,
          56.117109,
          55.470768,
          55.728641,
          55.876608,
          55.627442,
          55.682406,
          55.365179,
          54.848545,
          56.111072,
          55.944936,
          55.690723,
          55.596375,
          55.319193,
          56.440908,
          55.32988,
          56.194052,
          55.221105,
          54.95276,
          56.17377,
          54.917446,
          56.666989,
          55.660525,
          55.708188,
          55.667544,
          55.838399
         ],
         "lon": [
          11.38751,
          9.599344,
          12.297409,
          12.318757,
          11.920682,
          12.579733,
          12.245012,
          8.716467,
          12.473222,
          9.832394,
          12.623243,
          12.562106,
          9.535147,
          9.379758,
          12.357997,
          12.032303,
          9.262163,
          11.974858,
          12.376275,
          10.675046,
          12.244646,
          10.122101,
          11.7593,
          11.171097,
          10.21453,
          10.821734,
          9.006427,
          12.632106,
          12.535559,
          12.59583,
          12.511654
         ],
         "marker": {
          "color": [
           51.28191374152617,
           176.96726852607924,
           30.8040306891052,
           18.234397390467546,
           31.982870019000693,
           31.63542531903826,
           52.909823836677475,
           212.63964670962133,
           25.954962449145338,
           143.04796308447249,
           33.977079877693456,
           30.241825949923932,
           163.5433050997457,
           193.12768979136945,
           54.05518030360798,
           32.950127994726806,
           176.95776391756021,
           9.05199439414973,
           41.15489943823457,
           124.02813750306333,
           37.01791740221342,
           136.3426435299927,
           51.88704326550739,
           96.66845182026105,
           130.210316883793,
           114.09316823752698,
           221.53598386355227,
           34.44594224189034,
           29.08104698328734,
           32.20662473468095,
           34.02299037082753
          ]
         },
         "mode": "markers",
         "text": [
          "Siriusvej 8 4200 Slagelse",
          "Stengeroddevej 14 6300 Gråsten",
          "Svalemosevej 24 4671 Strøby",
          "Søndergårds Allé 39, 4. TH 2760 Måløv",
          "Hejrevej 11 3630 Jægerspris",
          "Nordre Frihavnsgade 19, 1. TH 2100 København Ø",
          "Pæonvej 27 3250 Gilleleje",
          "Nygårdsparken 52 6740 Bramming",
          "Julivej 1 2860 Søborg",
          "Vestervang 4 8700 Horsens",
          "Amager Landevej 150A 2770 Kastrup",
          "Nørre Søgade 37B, 6. 3 1370 København K",
          "Humlefægyde 8 6070 Christiansfeld",
          "Grønningen 11 6340 Kruså",
          "Blåmunkevej 36 3120 Dronningmølle",
          "Kirsebærvej 5 3300 Frederiksværk",
          "Ahornvej 15 7183 Randbøl",
          "Møllerjorden 38 4320 Lejre",
          "Bjælkerupvej 65 4660 Store Heddinge",
          "Overbrovej 28 8586 Ørum Djurs",
          "Bygaden 7 4652 Hårlev",
          "Østermarksvej 82 8381 Tilst",
          "Danavej 7 4700 Næstved",
          "Kragenakkevej 46 4913 Horslunde",
          "Steen Billes Torv 18, KL 8200 Aarhus N",
          "Gyvelvænget 10 5900 Rudkøbing",
          "Vestergade 35 7870 Roslev",
          "Amager Strandvej 110B, 1. TH 2300 København S",
          "Bogtrykkervej 14, 3. TV 2400 København NV",
          "Ved Linden 3, 5. TH 2300 København S",
          "Kildeåsen 6 2840 Holte"
         ],
         "type": "scattergeo"
        }
       ],
       "layout": {
        "geo": {
         "scope": "europe"
        },
        "template": {
         "data": {
          "bar": [
           {
            "error_x": {
             "color": "#2a3f5f"
            },
            "error_y": {
             "color": "#2a3f5f"
            },
            "marker": {
             "line": {
              "color": "#E5ECF6",
              "width": 0.5
             }
            },
            "type": "bar"
           }
          ],
          "barpolar": [
           {
            "marker": {
             "line": {
              "color": "#E5ECF6",
              "width": 0.5
             }
            },
            "type": "barpolar"
           }
          ],
          "carpet": [
           {
            "aaxis": {
             "endlinecolor": "#2a3f5f",
             "gridcolor": "white",
             "linecolor": "white",
             "minorgridcolor": "white",
             "startlinecolor": "#2a3f5f"
            },
            "baxis": {
             "endlinecolor": "#2a3f5f",
             "gridcolor": "white",
             "linecolor": "white",
             "minorgridcolor": "white",
             "startlinecolor": "#2a3f5f"
            },
            "type": "carpet"
           }
          ],
          "choropleth": [
           {
            "colorbar": {
             "outlinewidth": 0,
             "ticks": ""
            },
            "type": "choropleth"
           }
          ],
          "contour": [
           {
            "colorbar": {
             "outlinewidth": 0,
             "ticks": ""
            },
            "colorscale": [
             [
              0,
              "#0d0887"
             ],
             [
              0.1111111111111111,
              "#46039f"
             ],
             [
              0.2222222222222222,
              "#7201a8"
             ],
             [
              0.3333333333333333,
              "#9c179e"
             ],
             [
              0.4444444444444444,
              "#bd3786"
             ],
             [
              0.5555555555555556,
              "#d8576b"
             ],
             [
              0.6666666666666666,
              "#ed7953"
             ],
             [
              0.7777777777777778,
              "#fb9f3a"
             ],
             [
              0.8888888888888888,
              "#fdca26"
             ],
             [
              1,
              "#f0f921"
             ]
            ],
            "type": "contour"
           }
          ],
          "contourcarpet": [
           {
            "colorbar": {
             "outlinewidth": 0,
             "ticks": ""
            },
            "type": "contourcarpet"
           }
          ],
          "heatmap": [
           {
            "colorbar": {
             "outlinewidth": 0,
             "ticks": ""
            },
            "colorscale": [
             [
              0,
              "#0d0887"
             ],
             [
              0.1111111111111111,
              "#46039f"
             ],
             [
              0.2222222222222222,
              "#7201a8"
             ],
             [
              0.3333333333333333,
              "#9c179e"
             ],
             [
              0.4444444444444444,
              "#bd3786"
             ],
             [
              0.5555555555555556,
              "#d8576b"
             ],
             [
              0.6666666666666666,
              "#ed7953"
             ],
             [
              0.7777777777777778,
              "#fb9f3a"
             ],
             [
              0.8888888888888888,
              "#fdca26"
             ],
             [
              1,
              "#f0f921"
             ]
            ],
            "type": "heatmap"
           }
          ],
          "heatmapgl": [
           {
            "colorbar": {
             "outlinewidth": 0,
             "ticks": ""
            },
            "colorscale": [
             [
              0,
              "#0d0887"
             ],
             [
              0.1111111111111111,
              "#46039f"
             ],
             [
              0.2222222222222222,
              "#7201a8"
             ],
             [
              0.3333333333333333,
              "#9c179e"
             ],
             [
              0.4444444444444444,
              "#bd3786"
             ],
             [
              0.5555555555555556,
              "#d8576b"
             ],
             [
              0.6666666666666666,
              "#ed7953"
             ],
             [
              0.7777777777777778,
              "#fb9f3a"
             ],
             [
              0.8888888888888888,
              "#fdca26"
             ],
             [
              1,
              "#f0f921"
             ]
            ],
            "type": "heatmapgl"
           }
          ],
          "histogram": [
           {
            "marker": {
             "colorbar": {
              "outlinewidth": 0,
              "ticks": ""
             }
            },
            "type": "histogram"
           }
          ],
          "histogram2d": [
           {
            "colorbar": {
             "outlinewidth": 0,
             "ticks": ""
            },
            "colorscale": [
             [
              0,
              "#0d0887"
             ],
             [
              0.1111111111111111,
              "#46039f"
             ],
             [
              0.2222222222222222,
              "#7201a8"
             ],
             [
              0.3333333333333333,
              "#9c179e"
             ],
             [
              0.4444444444444444,
              "#bd3786"
             ],
             [
              0.5555555555555556,
              "#d8576b"
             ],
             [
              0.6666666666666666,
              "#ed7953"
             ],
             [
              0.7777777777777778,
              "#fb9f3a"
             ],
             [
              0.8888888888888888,
              "#fdca26"
             ],
             [
              1,
              "#f0f921"
             ]
            ],
            "type": "histogram2d"
           }
          ],
          "histogram2dcontour": [
           {
            "colorbar": {
             "outlinewidth": 0,
             "ticks": ""
            },
            "colorscale": [
             [
              0,
              "#0d0887"
             ],
             [
              0.1111111111111111,
              "#46039f"
             ],
             [
              0.2222222222222222,
              "#7201a8"
             ],
             [
              0.3333333333333333,
              "#9c179e"
             ],
             [
              0.4444444444444444,
              "#bd3786"
             ],
             [
              0.5555555555555556,
              "#d8576b"
             ],
             [
              0.6666666666666666,
              "#ed7953"
             ],
             [
              0.7777777777777778,
              "#fb9f3a"
             ],
             [
              0.8888888888888888,
              "#fdca26"
             ],
             [
              1,
              "#f0f921"
             ]
            ],
            "type": "histogram2dcontour"
           }
          ],
          "mesh3d": [
           {
            "colorbar": {
             "outlinewidth": 0,
             "ticks": ""
            },
            "type": "mesh3d"
           }
          ],
          "parcoords": [
           {
            "line": {
             "colorbar": {
              "outlinewidth": 0,
              "ticks": ""
             }
            },
            "type": "parcoords"
           }
          ],
          "scatter": [
           {
            "marker": {
             "colorbar": {
              "outlinewidth": 0,
              "ticks": ""
             }
            },
            "type": "scatter"
           }
          ],
          "scatter3d": [
           {
            "line": {
             "colorbar": {
              "outlinewidth": 0,
              "ticks": ""
             }
            },
            "marker": {
             "colorbar": {
              "outlinewidth": 0,
              "ticks": ""
             }
            },
            "type": "scatter3d"
           }
          ],
          "scattercarpet": [
           {
            "marker": {
             "colorbar": {
              "outlinewidth": 0,
              "ticks": ""
             }
            },
            "type": "scattercarpet"
           }
          ],
          "scattergeo": [
           {
            "marker": {
             "colorbar": {
              "outlinewidth": 0,
              "ticks": ""
             }
            },
            "type": "scattergeo"
           }
          ],
          "scattergl": [
           {
            "marker": {
             "colorbar": {
              "outlinewidth": 0,
              "ticks": ""
             }
            },
            "type": "scattergl"
           }
          ],
          "scattermapbox": [
           {
            "marker": {
             "colorbar": {
              "outlinewidth": 0,
              "ticks": ""
             }
            },
            "type": "scattermapbox"
           }
          ],
          "scatterpolar": [
           {
            "marker": {
             "colorbar": {
              "outlinewidth": 0,
              "ticks": ""
             }
            },
            "type": "scatterpolar"
           }
          ],
          "scatterpolargl": [
           {
            "marker": {
             "colorbar": {
              "outlinewidth": 0,
              "ticks": ""
             }
            },
            "type": "scatterpolargl"
           }
          ],
          "scatterternary": [
           {
            "marker": {
             "colorbar": {
              "outlinewidth": 0,
              "ticks": ""
             }
            },
            "type": "scatterternary"
           }
          ],
          "surface": [
           {
            "colorbar": {
             "outlinewidth": 0,
             "ticks": ""
            },
            "colorscale": [
             [
              0,
              "#0d0887"
             ],
             [
              0.1111111111111111,
              "#46039f"
             ],
             [
              0.2222222222222222,
              "#7201a8"
             ],
             [
              0.3333333333333333,
              "#9c179e"
             ],
             [
              0.4444444444444444,
              "#bd3786"
             ],
             [
              0.5555555555555556,
              "#d8576b"
             ],
             [
              0.6666666666666666,
              "#ed7953"
             ],
             [
              0.7777777777777778,
              "#fb9f3a"
             ],
             [
              0.8888888888888888,
              "#fdca26"
             ],
             [
              1,
              "#f0f921"
             ]
            ],
            "type": "surface"
           }
          ],
          "table": [
           {
            "cells": {
             "fill": {
              "color": "#EBF0F8"
             },
             "line": {
              "color": "white"
             }
            },
            "header": {
             "fill": {
              "color": "#C8D4E3"
             },
             "line": {
              "color": "white"
             }
            },
            "type": "table"
           }
          ]
         },
         "layout": {
          "annotationdefaults": {
           "arrowcolor": "#2a3f5f",
           "arrowhead": 0,
           "arrowwidth": 1
          },
          "colorscale": {
           "diverging": [
            [
             0,
             "#8e0152"
            ],
            [
             0.1,
             "#c51b7d"
            ],
            [
             0.2,
             "#de77ae"
            ],
            [
             0.3,
             "#f1b6da"
            ],
            [
             0.4,
             "#fde0ef"
            ],
            [
             0.5,
             "#f7f7f7"
            ],
            [
             0.6,
             "#e6f5d0"
            ],
            [
             0.7,
             "#b8e186"
            ],
            [
             0.8,
             "#7fbc41"
            ],
            [
             0.9,
             "#4d9221"
            ],
            [
             1,
             "#276419"
            ]
           ],
           "sequential": [
            [
             0,
             "#0d0887"
            ],
            [
             0.1111111111111111,
             "#46039f"
            ],
            [
             0.2222222222222222,
             "#7201a8"
            ],
            [
             0.3333333333333333,
             "#9c179e"
            ],
            [
             0.4444444444444444,
             "#bd3786"
            ],
            [
             0.5555555555555556,
             "#d8576b"
            ],
            [
             0.6666666666666666,
             "#ed7953"
            ],
            [
             0.7777777777777778,
             "#fb9f3a"
            ],
            [
             0.8888888888888888,
             "#fdca26"
            ],
            [
             1,
             "#f0f921"
            ]
           ],
           "sequentialminus": [
            [
             0,
             "#0d0887"
            ],
            [
             0.1111111111111111,
             "#46039f"
            ],
            [
             0.2222222222222222,
             "#7201a8"
            ],
            [
             0.3333333333333333,
             "#9c179e"
            ],
            [
             0.4444444444444444,
             "#bd3786"
            ],
            [
             0.5555555555555556,
             "#d8576b"
            ],
            [
             0.6666666666666666,
             "#ed7953"
            ],
            [
             0.7777777777777778,
             "#fb9f3a"
            ],
            [
             0.8888888888888888,
             "#fdca26"
            ],
            [
             1,
             "#f0f921"
            ]
           ]
          },
          "colorway": [
           "#636efa",
           "#EF553B",
           "#00cc96",
           "#ab63fa",
           "#FFA15A",
           "#19d3f3",
           "#FF6692",
           "#B6E880",
           "#FF97FF",
           "#FECB52"
          ],
          "font": {
           "color": "#2a3f5f"
          },
          "geo": {
           "bgcolor": "white",
           "lakecolor": "white",
           "landcolor": "#E5ECF6",
           "showlakes": true,
           "showland": true,
           "subunitcolor": "white"
          },
          "hoverlabel": {
           "align": "left"
          },
          "hovermode": "closest",
          "mapbox": {
           "style": "light"
          },
          "paper_bgcolor": "white",
          "plot_bgcolor": "#E5ECF6",
          "polar": {
           "angularaxis": {
            "gridcolor": "white",
            "linecolor": "white",
            "ticks": ""
           },
           "bgcolor": "#E5ECF6",
           "radialaxis": {
            "gridcolor": "white",
            "linecolor": "white",
            "ticks": ""
           }
          },
          "scene": {
           "xaxis": {
            "backgroundcolor": "#E5ECF6",
            "gridcolor": "white",
            "gridwidth": 2,
            "linecolor": "white",
            "showbackground": true,
            "ticks": "",
            "zerolinecolor": "white"
           },
           "yaxis": {
            "backgroundcolor": "#E5ECF6",
            "gridcolor": "white",
            "gridwidth": 2,
            "linecolor": "white",
            "showbackground": true,
            "ticks": "",
            "zerolinecolor": "white"
           },
           "zaxis": {
            "backgroundcolor": "#E5ECF6",
            "gridcolor": "white",
            "gridwidth": 2,
            "linecolor": "white",
            "showbackground": true,
            "ticks": "",
            "zerolinecolor": "white"
           }
          },
          "shapedefaults": {
           "line": {
            "color": "#2a3f5f"
           }
          },
          "ternary": {
           "aaxis": {
            "gridcolor": "white",
            "linecolor": "white",
            "ticks": ""
           },
           "baxis": {
            "gridcolor": "white",
            "linecolor": "white",
            "ticks": ""
           },
           "bgcolor": "#E5ECF6",
           "caxis": {
            "gridcolor": "white",
            "linecolor": "white",
            "ticks": ""
           }
          },
          "title": {
           "x": 0.05
          },
          "xaxis": {
           "automargin": true,
           "gridcolor": "white",
           "linecolor": "white",
           "ticks": "",
           "zerolinecolor": "white",
           "zerolinewidth": 2
          },
          "yaxis": {
           "automargin": true,
           "gridcolor": "white",
           "linecolor": "white",
           "ticks": "",
           "zerolinecolor": "white",
           "zerolinewidth": 2
          }
         }
        },
        "title": {
         "text": "Map"
        }
       }
      },
      "text/html": [
       "<div>\n",
       "        \n",
       "        \n",
       "            <div id=\"0d80a05a-4296-4544-bd5e-e0140955a14d\" class=\"plotly-graph-div\" style=\"height:525px; width:100%;\"></div>\n",
       "            <script type=\"text/javascript\">\n",
       "                require([\"plotly\"], function(Plotly) {\n",
       "                    window.PLOTLYENV=window.PLOTLYENV || {};\n",
       "                    \n",
       "                if (document.getElementById(\"0d80a05a-4296-4544-bd5e-e0140955a14d\")) {\n",
       "                    Plotly.newPlot(\n",
       "                        '0d80a05a-4296-4544-bd5e-e0140955a14d',\n",
       "                        [{\"lat\": [55.409988, 54.920497, 55.40088, 55.74638, 55.922702, 55.700926, 56.117109, 55.470768, 55.728641, 55.876608, 55.627442, 55.682406, 55.365179, 54.848545, 56.111072, 55.944936, 55.690723, 55.596375, 55.319193, 56.440908, 55.32988, 56.194052, 55.221105, 54.95276, 56.17377, 54.917446, 56.666989, 55.660525, 55.708188, 55.667544, 55.838399], \"lon\": [11.38751, 9.599344, 12.297409, 12.318757, 11.920682, 12.579733, 12.245012, 8.716467, 12.473222, 9.832394, 12.623243, 12.562106, 9.535147, 9.379758, 12.357997, 12.032303, 9.262163, 11.974858, 12.376275, 10.675046, 12.244646, 10.122101, 11.7593, 11.171097, 10.21453, 10.821734, 9.006427, 12.632106, 12.535559, 12.59583, 12.511654], \"marker\": {\"color\": [51.28191374152617, 176.96726852607924, 30.8040306891052, 18.234397390467546, 31.982870019000693, 31.63542531903826, 52.909823836677475, 212.63964670962133, 25.954962449145338, 143.04796308447249, 33.977079877693456, 30.241825949923932, 163.5433050997457, 193.12768979136945, 54.05518030360798, 32.950127994726806, 176.95776391756021, 9.05199439414973, 41.15489943823457, 124.02813750306333, 37.01791740221342, 136.3426435299927, 51.88704326550739, 96.66845182026105, 130.210316883793, 114.09316823752698, 221.53598386355227, 34.44594224189034, 29.08104698328734, 32.20662473468095, 34.02299037082753]}, \"mode\": \"markers\", \"text\": [\"Siriusvej 8 4200 Slagelse\", \"Stengeroddevej 14 6300 Gr\\u00e5sten\", \"Svalemosevej 24 4671 Str\\u00f8by\", \"S\\u00f8nderg\\u00e5rds All\\u00e9 39, 4. TH 2760 M\\u00e5l\\u00f8v\", \"Hejrevej 11 3630 J\\u00e6gerspris\", \"Nordre Frihavnsgade 19, 1. TH 2100 K\\u00f8benhavn \\u00d8\", \"P\\u00e6onvej 27 3250 Gilleleje\", \"Nyg\\u00e5rdsparken 52 6740 Bramming\", \"Julivej 1 2860 S\\u00f8borg\", \"Vestervang 4 8700 Horsens\", \"Amager Landevej 150A 2770 Kastrup\", \"N\\u00f8rre S\\u00f8gade 37B, 6. 3 1370 K\\u00f8benhavn K\", \"Humlef\\u00e6gyde 8 6070 Christiansfeld\", \"Gr\\u00f8nningen 11 6340 Krus\\u00e5\", \"Bl\\u00e5munkevej 36 3120 Dronningm\\u00f8lle\", \"Kirseb\\u00e6rvej 5 3300 Frederiksv\\u00e6rk\", \"Ahornvej 15 7183 Randb\\u00f8l\", \"M\\u00f8llerjorden 38 4320 Lejre\", \"Bj\\u00e6lkerupvej 65 4660 Store Heddinge\", \"Overbrovej 28 8586 \\u00d8rum Djurs\", \"Bygaden 7 4652 H\\u00e5rlev\", \"\\u00d8stermarksvej 82 8381 Tilst\", \"Danavej 7 4700 N\\u00e6stved\", \"Kragenakkevej 46 4913 Horslunde\", \"Steen Billes Torv 18, KL 8200 Aarhus N\", \"Gyvelv\\u00e6nget 10 5900 Rudk\\u00f8bing\", \"Vestergade 35 7870 Roslev\", \"Amager Strandvej 110B, 1. TH 2300 K\\u00f8benhavn S\", \"Bogtrykkervej 14, 3. TV 2400 K\\u00f8benhavn NV\", \"Ved Linden 3, 5. TH 2300 K\\u00f8benhavn S\", \"Kilde\\u00e5sen 6 2840 Holte\"], \"type\": \"scattergeo\"}],\n",
       "                        {\"geo\": {\"scope\": \"europe\"}, \"template\": {\"data\": {\"bar\": [{\"error_x\": {\"color\": \"#2a3f5f\"}, \"error_y\": {\"color\": \"#2a3f5f\"}, \"marker\": {\"line\": {\"color\": \"#E5ECF6\", \"width\": 0.5}}, \"type\": \"bar\"}], \"barpolar\": [{\"marker\": {\"line\": {\"color\": \"#E5ECF6\", \"width\": 0.5}}, \"type\": \"barpolar\"}], \"carpet\": [{\"aaxis\": {\"endlinecolor\": \"#2a3f5f\", \"gridcolor\": \"white\", \"linecolor\": \"white\", \"minorgridcolor\": \"white\", \"startlinecolor\": \"#2a3f5f\"}, \"baxis\": {\"endlinecolor\": \"#2a3f5f\", \"gridcolor\": \"white\", \"linecolor\": \"white\", \"minorgridcolor\": \"white\", \"startlinecolor\": \"#2a3f5f\"}, \"type\": \"carpet\"}], \"choropleth\": [{\"colorbar\": {\"outlinewidth\": 0, \"ticks\": \"\"}, \"type\": \"choropleth\"}], \"contour\": [{\"colorbar\": {\"outlinewidth\": 0, \"ticks\": \"\"}, \"colorscale\": [[0.0, \"#0d0887\"], [0.1111111111111111, \"#46039f\"], [0.2222222222222222, \"#7201a8\"], [0.3333333333333333, \"#9c179e\"], [0.4444444444444444, \"#bd3786\"], [0.5555555555555556, \"#d8576b\"], [0.6666666666666666, \"#ed7953\"], [0.7777777777777778, \"#fb9f3a\"], [0.8888888888888888, \"#fdca26\"], [1.0, \"#f0f921\"]], \"type\": \"contour\"}], \"contourcarpet\": [{\"colorbar\": {\"outlinewidth\": 0, \"ticks\": \"\"}, \"type\": \"contourcarpet\"}], \"heatmap\": [{\"colorbar\": {\"outlinewidth\": 0, \"ticks\": \"\"}, \"colorscale\": [[0.0, \"#0d0887\"], [0.1111111111111111, \"#46039f\"], [0.2222222222222222, \"#7201a8\"], [0.3333333333333333, \"#9c179e\"], [0.4444444444444444, \"#bd3786\"], [0.5555555555555556, \"#d8576b\"], [0.6666666666666666, \"#ed7953\"], [0.7777777777777778, \"#fb9f3a\"], [0.8888888888888888, \"#fdca26\"], [1.0, \"#f0f921\"]], \"type\": \"heatmap\"}], \"heatmapgl\": [{\"colorbar\": {\"outlinewidth\": 0, \"ticks\": \"\"}, \"colorscale\": [[0.0, \"#0d0887\"], [0.1111111111111111, \"#46039f\"], [0.2222222222222222, \"#7201a8\"], [0.3333333333333333, \"#9c179e\"], [0.4444444444444444, \"#bd3786\"], [0.5555555555555556, \"#d8576b\"], [0.6666666666666666, \"#ed7953\"], [0.7777777777777778, \"#fb9f3a\"], [0.8888888888888888, \"#fdca26\"], [1.0, \"#f0f921\"]], \"type\": \"heatmapgl\"}], \"histogram\": [{\"marker\": {\"colorbar\": {\"outlinewidth\": 0, \"ticks\": \"\"}}, \"type\": \"histogram\"}], \"histogram2d\": [{\"colorbar\": {\"outlinewidth\": 0, \"ticks\": \"\"}, \"colorscale\": [[0.0, \"#0d0887\"], [0.1111111111111111, \"#46039f\"], [0.2222222222222222, \"#7201a8\"], [0.3333333333333333, \"#9c179e\"], [0.4444444444444444, \"#bd3786\"], [0.5555555555555556, \"#d8576b\"], [0.6666666666666666, \"#ed7953\"], [0.7777777777777778, \"#fb9f3a\"], [0.8888888888888888, \"#fdca26\"], [1.0, \"#f0f921\"]], \"type\": \"histogram2d\"}], \"histogram2dcontour\": [{\"colorbar\": {\"outlinewidth\": 0, \"ticks\": \"\"}, \"colorscale\": [[0.0, \"#0d0887\"], [0.1111111111111111, \"#46039f\"], [0.2222222222222222, \"#7201a8\"], [0.3333333333333333, \"#9c179e\"], [0.4444444444444444, \"#bd3786\"], [0.5555555555555556, \"#d8576b\"], [0.6666666666666666, \"#ed7953\"], [0.7777777777777778, \"#fb9f3a\"], [0.8888888888888888, \"#fdca26\"], [1.0, \"#f0f921\"]], \"type\": \"histogram2dcontour\"}], \"mesh3d\": [{\"colorbar\": {\"outlinewidth\": 0, \"ticks\": \"\"}, \"type\": \"mesh3d\"}], \"parcoords\": [{\"line\": {\"colorbar\": {\"outlinewidth\": 0, \"ticks\": \"\"}}, \"type\": \"parcoords\"}], \"scatter\": [{\"marker\": {\"colorbar\": {\"outlinewidth\": 0, \"ticks\": \"\"}}, \"type\": \"scatter\"}], \"scatter3d\": [{\"line\": {\"colorbar\": {\"outlinewidth\": 0, \"ticks\": \"\"}}, \"marker\": {\"colorbar\": {\"outlinewidth\": 0, \"ticks\": \"\"}}, \"type\": \"scatter3d\"}], \"scattercarpet\": [{\"marker\": {\"colorbar\": {\"outlinewidth\": 0, \"ticks\": \"\"}}, \"type\": \"scattercarpet\"}], \"scattergeo\": [{\"marker\": {\"colorbar\": {\"outlinewidth\": 0, \"ticks\": \"\"}}, \"type\": \"scattergeo\"}], \"scattergl\": [{\"marker\": {\"colorbar\": {\"outlinewidth\": 0, \"ticks\": \"\"}}, \"type\": \"scattergl\"}], \"scattermapbox\": [{\"marker\": {\"colorbar\": {\"outlinewidth\": 0, \"ticks\": \"\"}}, \"type\": \"scattermapbox\"}], \"scatterpolar\": [{\"marker\": {\"colorbar\": {\"outlinewidth\": 0, \"ticks\": \"\"}}, \"type\": \"scatterpolar\"}], \"scatterpolargl\": [{\"marker\": {\"colorbar\": {\"outlinewidth\": 0, \"ticks\": \"\"}}, \"type\": \"scatterpolargl\"}], \"scatterternary\": [{\"marker\": {\"colorbar\": {\"outlinewidth\": 0, \"ticks\": \"\"}}, \"type\": \"scatterternary\"}], \"surface\": [{\"colorbar\": {\"outlinewidth\": 0, \"ticks\": \"\"}, \"colorscale\": [[0.0, \"#0d0887\"], [0.1111111111111111, \"#46039f\"], [0.2222222222222222, \"#7201a8\"], [0.3333333333333333, \"#9c179e\"], [0.4444444444444444, \"#bd3786\"], [0.5555555555555556, \"#d8576b\"], [0.6666666666666666, \"#ed7953\"], [0.7777777777777778, \"#fb9f3a\"], [0.8888888888888888, \"#fdca26\"], [1.0, \"#f0f921\"]], \"type\": \"surface\"}], \"table\": [{\"cells\": {\"fill\": {\"color\": \"#EBF0F8\"}, \"line\": {\"color\": \"white\"}}, \"header\": {\"fill\": {\"color\": \"#C8D4E3\"}, \"line\": {\"color\": \"white\"}}, \"type\": \"table\"}]}, \"layout\": {\"annotationdefaults\": {\"arrowcolor\": \"#2a3f5f\", \"arrowhead\": 0, \"arrowwidth\": 1}, \"colorscale\": {\"diverging\": [[0, \"#8e0152\"], [0.1, \"#c51b7d\"], [0.2, \"#de77ae\"], [0.3, \"#f1b6da\"], [0.4, \"#fde0ef\"], [0.5, \"#f7f7f7\"], [0.6, \"#e6f5d0\"], [0.7, \"#b8e186\"], [0.8, \"#7fbc41\"], [0.9, \"#4d9221\"], [1, \"#276419\"]], \"sequential\": [[0.0, \"#0d0887\"], [0.1111111111111111, \"#46039f\"], [0.2222222222222222, \"#7201a8\"], [0.3333333333333333, \"#9c179e\"], [0.4444444444444444, \"#bd3786\"], [0.5555555555555556, \"#d8576b\"], [0.6666666666666666, \"#ed7953\"], [0.7777777777777778, \"#fb9f3a\"], [0.8888888888888888, \"#fdca26\"], [1.0, \"#f0f921\"]], \"sequentialminus\": [[0.0, \"#0d0887\"], [0.1111111111111111, \"#46039f\"], [0.2222222222222222, \"#7201a8\"], [0.3333333333333333, \"#9c179e\"], [0.4444444444444444, \"#bd3786\"], [0.5555555555555556, \"#d8576b\"], [0.6666666666666666, \"#ed7953\"], [0.7777777777777778, \"#fb9f3a\"], [0.8888888888888888, \"#fdca26\"], [1.0, \"#f0f921\"]]}, \"colorway\": [\"#636efa\", \"#EF553B\", \"#00cc96\", \"#ab63fa\", \"#FFA15A\", \"#19d3f3\", \"#FF6692\", \"#B6E880\", \"#FF97FF\", \"#FECB52\"], \"font\": {\"color\": \"#2a3f5f\"}, \"geo\": {\"bgcolor\": \"white\", \"lakecolor\": \"white\", \"landcolor\": \"#E5ECF6\", \"showlakes\": true, \"showland\": true, \"subunitcolor\": \"white\"}, \"hoverlabel\": {\"align\": \"left\"}, \"hovermode\": \"closest\", \"mapbox\": {\"style\": \"light\"}, \"paper_bgcolor\": \"white\", \"plot_bgcolor\": \"#E5ECF6\", \"polar\": {\"angularaxis\": {\"gridcolor\": \"white\", \"linecolor\": \"white\", \"ticks\": \"\"}, \"bgcolor\": \"#E5ECF6\", \"radialaxis\": {\"gridcolor\": \"white\", \"linecolor\": \"white\", \"ticks\": \"\"}}, \"scene\": {\"xaxis\": {\"backgroundcolor\": \"#E5ECF6\", \"gridcolor\": \"white\", \"gridwidth\": 2, \"linecolor\": \"white\", \"showbackground\": true, \"ticks\": \"\", \"zerolinecolor\": \"white\"}, \"yaxis\": {\"backgroundcolor\": \"#E5ECF6\", \"gridcolor\": \"white\", \"gridwidth\": 2, \"linecolor\": \"white\", \"showbackground\": true, \"ticks\": \"\", \"zerolinecolor\": \"white\"}, \"zaxis\": {\"backgroundcolor\": \"#E5ECF6\", \"gridcolor\": \"white\", \"gridwidth\": 2, \"linecolor\": \"white\", \"showbackground\": true, \"ticks\": \"\", \"zerolinecolor\": \"white\"}}, \"shapedefaults\": {\"line\": {\"color\": \"#2a3f5f\"}}, \"ternary\": {\"aaxis\": {\"gridcolor\": \"white\", \"linecolor\": \"white\", \"ticks\": \"\"}, \"baxis\": {\"gridcolor\": \"white\", \"linecolor\": \"white\", \"ticks\": \"\"}, \"bgcolor\": \"#E5ECF6\", \"caxis\": {\"gridcolor\": \"white\", \"linecolor\": \"white\", \"ticks\": \"\"}}, \"title\": {\"x\": 0.05}, \"xaxis\": {\"automargin\": true, \"gridcolor\": \"white\", \"linecolor\": \"white\", \"ticks\": \"\", \"zerolinecolor\": \"white\", \"zerolinewidth\": 2}, \"yaxis\": {\"automargin\": true, \"gridcolor\": \"white\", \"linecolor\": \"white\", \"ticks\": \"\", \"zerolinecolor\": \"white\", \"zerolinewidth\": 2}}}, \"title\": {\"text\": \"Map\"}},\n",
       "                        {\"responsive\": true}\n",
       "                    ).then(function(){\n",
       "                            \n",
       "var gd = document.getElementById('0d80a05a-4296-4544-bd5e-e0140955a14d');\n",
       "var x = new MutationObserver(function (mutations, observer) {{\n",
       "        var display = window.getComputedStyle(gd).display;\n",
       "        if (!display || display === 'none') {{\n",
       "            console.log([gd, 'removed!']);\n",
       "            Plotly.purge(gd);\n",
       "            observer.disconnect();\n",
       "        }}\n",
       "}});\n",
       "\n",
       "// Listen for the removal of the full notebook cells\n",
       "var notebookContainer = gd.closest('#notebook-container');\n",
       "if (notebookContainer) {{\n",
       "    x.observe(notebookContainer, {childList: true});\n",
       "}}\n",
       "\n",
       "// Listen for the clearing of the current output cell\n",
       "var outputEl = gd.closest('.output');\n",
       "if (outputEl) {{\n",
       "    x.observe(outputEl, {childList: true});\n",
       "}}\n",
       "\n",
       "                        })\n",
       "                };\n",
       "                });\n",
       "            </script>\n",
       "        </div>"
      ]
     },
     "metadata": {},
     "output_type": "display_data"
    }
   ],
   "source": [
    "fig.update_layout(\n",
    "        title = 'Map',\n",
    "        geo_scope='europe',\n",
    "    )"
   ]
  }
 ],
 "metadata": {
  "kernelspec": {
   "display_name": "Python 3",
   "language": "python",
   "name": "python3"
  },
  "language_info": {
   "codemirror_mode": {
    "name": "ipython",
    "version": 3
   },
   "file_extension": ".py",
   "mimetype": "text/x-python",
   "name": "python",
   "nbconvert_exporter": "python",
   "pygments_lexer": "ipython3",
   "version": "3.6.3"
  }
 },
 "nbformat": 4,
 "nbformat_minor": 2
}
