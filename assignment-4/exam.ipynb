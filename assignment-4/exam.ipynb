{
 "cells": [
  {
   "cell_type": "markdown",
   "metadata": {},
   "source": [
    "## This Assignment is about using a BI tool named Power BI which is microsofts solution on a simple BI tool that is easy to use.\n"
   ]
  },
  {
   "cell_type": "markdown",
   "metadata": {},
   "source": [
    "### We load the boliga dataset from azure portal where an database is setup with the data and Power BI can collect that data.\n",
    "\n",
    "### From here the data is in Power BI and we can see the data collumns\n",
    "![title](exam/img/pic1.png)"
   ]
  },
  {
   "attachments": {},
   "cell_type": "markdown",
   "metadata": {},
   "source": [
    "### we can then manipulate the data to some extend and change what type they are.\n",
    "\n",
    "### Ex: longitude and latitude is coordinates and price is a whole number\n",
    "![image.png](exam/img/pic3.png)"
   ]
  },
  {
   "cell_type": "markdown",
   "metadata": {},
   "source": [
    "![title](exam/img/mapofdenmark.png)"
   ]
  },
  {
   "cell_type": "markdown",
   "metadata": {},
   "source": [
    "### We then plot the map again but with additional information\n",
    "![image.png](exam/img/advancedmap.png)\n",
    "![image.png](exam/img/zoomadvanced.png)"
   ]
  },
  {
   "cell_type": "markdown",
   "metadata": {},
   "source": [
    "### We then reveal a hidden fact about the data set which is the lowest average housing sales in denmark\n",
    "![image.png](exam/img/freestyle.png)\n"
   ]
  },
  {
   "cell_type": "code",
   "execution_count": null,
   "metadata": {},
   "outputs": [],
   "source": []
  }
 ],
 "metadata": {
  "kernelspec": {
   "display_name": "Python 3",
   "language": "python",
   "name": "python3"
  },
  "language_info": {
   "codemirror_mode": {
    "name": "ipython",
    "version": 3
   },
   "file_extension": ".py",
   "mimetype": "text/x-python",
   "name": "python",
   "nbconvert_exporter": "python",
   "pygments_lexer": "ipython3",
   "version": "3.7.3"
  }
 },
 "nbformat": 4,
 "nbformat_minor": 2
}
