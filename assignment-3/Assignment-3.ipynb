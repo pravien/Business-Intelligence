{
 "cells": [
  {
   "cell_type": "code",
   "execution_count": 31,
   "metadata": {},
   "outputs": [],
   "source": [
    "import pandas as pd\n",
    "import math\n",
    "import os\n",
    "import conda\n",
    "import matplotlib.pyplot as plt\n",
    "conda_file_dir = conda.__file__\n",
    "conda_dir = conda_file_dir.split('lib')[0]\n",
    "proj_lib = os.path.join(os.path.join(conda_dir, 'share'), 'proj')\n",
    "os.environ[\"PROJ_LIB\"] = proj_lib"
   ]
  },
  {
   "cell_type": "code",
   "execution_count": 32,
   "metadata": {},
   "outputs": [],
   "source": [
    "df = pd.read_csv('./house_sale_data_with_geocodes.csv')"
   ]
  },
  {
   "cell_type": "code",
   "execution_count": 33,
   "metadata": {},
   "outputs": [],
   "source": [
    "df = df.dropna()"
   ]
  },
  {
   "cell_type": "code",
   "execution_count": 34,
   "metadata": {},
   "outputs": [],
   "source": [
    "df['sell_date'] = pd.to_datetime(df['sell_date'],format='%d-%m-%Y')"
   ]
  },
  {
   "cell_type": "code",
   "execution_count": 35,
   "metadata": {},
   "outputs": [
    {
     "data": {
      "text/html": [
       "<div>\n",
       "<style scoped>\n",
       "    .dataframe tbody tr th:only-of-type {\n",
       "        vertical-align: middle;\n",
       "    }\n",
       "\n",
       "    .dataframe tbody tr th {\n",
       "        vertical-align: top;\n",
       "    }\n",
       "\n",
       "    .dataframe thead th {\n",
       "        text-align: right;\n",
       "    }\n",
       "</style>\n",
       "<table border=\"1\" class=\"dataframe\">\n",
       "  <thead>\n",
       "    <tr style=\"text-align: right;\">\n",
       "      <th></th>\n",
       "      <th>address</th>\n",
       "      <th>zip_code</th>\n",
       "      <th>price</th>\n",
       "      <th>sell_date</th>\n",
       "      <th>sell_type</th>\n",
       "      <th>price_per_sq_m</th>\n",
       "      <th>no_rooms</th>\n",
       "      <th>housing_type</th>\n",
       "      <th>size_in_sq_m</th>\n",
       "      <th>year_of_construction</th>\n",
       "      <th>price_change_in_pct</th>\n",
       "      <th>zip_code_num</th>\n",
       "      <th>long</th>\n",
       "      <th>lat</th>\n",
       "    </tr>\n",
       "  </thead>\n",
       "  <tbody>\n",
       "    <tr>\n",
       "      <th>0</th>\n",
       "      <td>Ved Volden 5, 5. TV</td>\n",
       "      <td>1425 København K</td>\n",
       "      <td>4000000</td>\n",
       "      <td>2017-05-23</td>\n",
       "      <td>Alm. Salg</td>\n",
       "      <td>43956.0</td>\n",
       "      <td>3.0</td>\n",
       "      <td>Lejlighed</td>\n",
       "      <td>91.0</td>\n",
       "      <td>1938.0</td>\n",
       "      <td>0.0</td>\n",
       "      <td>1425</td>\n",
       "      <td>12.593629</td>\n",
       "      <td>55.671769</td>\n",
       "    </tr>\n",
       "    <tr>\n",
       "      <th>1</th>\n",
       "      <td>Rådhusstræde 4C, 1</td>\n",
       "      <td>1466 København K</td>\n",
       "      <td>4895000</td>\n",
       "      <td>2017-05-18</td>\n",
       "      <td>Alm. Salg</td>\n",
       "      <td>46619.0</td>\n",
       "      <td>3.0</td>\n",
       "      <td>Lejlighed</td>\n",
       "      <td>105.0</td>\n",
       "      <td>1796.0</td>\n",
       "      <td>0.0</td>\n",
       "      <td>1466</td>\n",
       "      <td>12.573689</td>\n",
       "      <td>55.676839</td>\n",
       "    </tr>\n",
       "    <tr>\n",
       "      <th>2</th>\n",
       "      <td>Store Kongensgade 112A, 3</td>\n",
       "      <td>1264 København K</td>\n",
       "      <td>250000</td>\n",
       "      <td>2017-05-15</td>\n",
       "      <td>Andet</td>\n",
       "      <td>1851.0</td>\n",
       "      <td>2.0</td>\n",
       "      <td>Lejlighed</td>\n",
       "      <td>135.0</td>\n",
       "      <td>1860.0</td>\n",
       "      <td>0.0</td>\n",
       "      <td>1264</td>\n",
       "      <td>12.590441</td>\n",
       "      <td>55.687079</td>\n",
       "    </tr>\n",
       "    <tr>\n",
       "      <th>3</th>\n",
       "      <td>Amaliegade 13G, 2</td>\n",
       "      <td>1256 København K</td>\n",
       "      <td>7375000</td>\n",
       "      <td>2017-05-15</td>\n",
       "      <td>Alm. Salg</td>\n",
       "      <td>75255.0</td>\n",
       "      <td>3.0</td>\n",
       "      <td>Lejlighed</td>\n",
       "      <td>98.0</td>\n",
       "      <td>1948.0</td>\n",
       "      <td>9.0</td>\n",
       "      <td>1256</td>\n",
       "      <td>12.591287</td>\n",
       "      <td>55.683439</td>\n",
       "    </tr>\n",
       "    <tr>\n",
       "      <th>4</th>\n",
       "      <td>Borgergade 144, 3. TH</td>\n",
       "      <td>1300 København K</td>\n",
       "      <td>5825000</td>\n",
       "      <td>2017-05-10</td>\n",
       "      <td>Alm. Salg</td>\n",
       "      <td>57673.0</td>\n",
       "      <td>3.0</td>\n",
       "      <td>Lejlighed</td>\n",
       "      <td>101.0</td>\n",
       "      <td>1854.0</td>\n",
       "      <td>3.0</td>\n",
       "      <td>1300</td>\n",
       "      <td>12.588744</td>\n",
       "      <td>55.687623</td>\n",
       "    </tr>\n",
       "  </tbody>\n",
       "</table>\n",
       "</div>"
      ],
      "text/plain": [
       "                     address          zip_code    price  sell_date  sell_type  \\\n",
       "0        Ved Volden 5, 5. TV  1425 København K  4000000 2017-05-23  Alm. Salg   \n",
       "1         Rådhusstræde 4C, 1  1466 København K  4895000 2017-05-18  Alm. Salg   \n",
       "2  Store Kongensgade 112A, 3  1264 København K   250000 2017-05-15      Andet   \n",
       "3          Amaliegade 13G, 2  1256 København K  7375000 2017-05-15  Alm. Salg   \n",
       "4      Borgergade 144, 3. TH  1300 København K  5825000 2017-05-10  Alm. Salg   \n",
       "\n",
       "   price_per_sq_m  no_rooms housing_type  size_in_sq_m  year_of_construction  \\\n",
       "0         43956.0       3.0    Lejlighed          91.0                1938.0   \n",
       "1         46619.0       3.0    Lejlighed         105.0                1796.0   \n",
       "2          1851.0       2.0    Lejlighed         135.0                1860.0   \n",
       "3         75255.0       3.0    Lejlighed          98.0                1948.0   \n",
       "4         57673.0       3.0    Lejlighed         101.0                1854.0   \n",
       "\n",
       "   price_change_in_pct  zip_code_num       long        lat  \n",
       "0                  0.0          1425  12.593629  55.671769  \n",
       "1                  0.0          1466  12.573689  55.676839  \n",
       "2                  0.0          1264  12.590441  55.687079  \n",
       "3                  9.0          1256  12.591287  55.683439  \n",
       "4                  3.0          1300  12.588744  55.687623  "
      ]
     },
     "execution_count": 35,
     "metadata": {},
     "output_type": "execute_result"
    }
   ],
   "source": [
    "df.head()"
   ]
  },
  {
   "cell_type": "markdown",
   "metadata": {},
   "source": [
    "### Create a plot with the help of Basemap, on which you plot sales records for 2015 which are not farther away than 50km from Copenhagen city center (lat: 55.676111, lon: 12.568333)"
   ]
  },
  {
   "cell_type": "code",
   "execution_count": 36,
   "metadata": {},
   "outputs": [],
   "source": [
    "def haversine_distance(origin, destination):\n",
    "\n",
    "    lat_orig, lon_orig = origin\n",
    "    lat_dest, lon_dest = destination\n",
    "    radius = 6371\n",
    "\n",
    "    dlat = math.radians(lat_dest-lat_orig)\n",
    "    dlon = math.radians(lon_dest-lon_orig)\n",
    "    a = (math.sin(dlat / 2) * math.sin(dlat / 2) + math.cos(math.radians(lat_orig)) \n",
    "        * math.cos(math.radians(lat_dest)) * math.sin(dlon / 2) * math.sin(dlon / 2))\n",
    "    c = 2 * math.atan2(math.sqrt(a), math.sqrt(1 - a))\n",
    "    d = radius * c\n",
    "\n",
    "    return d"
   ]
  },
  {
   "cell_type": "code",
   "execution_count": 37,
   "metadata": {},
   "outputs": [],
   "source": [
    "mask_2015 = (df['sell_date'].dt.year == 2015 ) "
   ]
  },
  {
   "cell_type": "code",
   "execution_count": 38,
   "metadata": {},
   "outputs": [],
   "source": [
    "df_2015 = df[mask_2015]"
   ]
  },
  {
   "cell_type": "code",
   "execution_count": 39,
   "metadata": {},
   "outputs": [
    {
     "data": {
      "text/html": [
       "<div>\n",
       "<style scoped>\n",
       "    .dataframe tbody tr th:only-of-type {\n",
       "        vertical-align: middle;\n",
       "    }\n",
       "\n",
       "    .dataframe tbody tr th {\n",
       "        vertical-align: top;\n",
       "    }\n",
       "\n",
       "    .dataframe thead th {\n",
       "        text-align: right;\n",
       "    }\n",
       "</style>\n",
       "<table border=\"1\" class=\"dataframe\">\n",
       "  <thead>\n",
       "    <tr style=\"text-align: right;\">\n",
       "      <th></th>\n",
       "      <th>address</th>\n",
       "      <th>zip_code</th>\n",
       "      <th>price</th>\n",
       "      <th>sell_date</th>\n",
       "      <th>sell_type</th>\n",
       "      <th>price_per_sq_m</th>\n",
       "      <th>no_rooms</th>\n",
       "      <th>housing_type</th>\n",
       "      <th>size_in_sq_m</th>\n",
       "      <th>year_of_construction</th>\n",
       "      <th>price_change_in_pct</th>\n",
       "      <th>zip_code_num</th>\n",
       "      <th>long</th>\n",
       "      <th>lat</th>\n",
       "    </tr>\n",
       "  </thead>\n",
       "  <tbody>\n",
       "    <tr>\n",
       "      <th>0</th>\n",
       "      <td>Ved Volden 5, 5. TV</td>\n",
       "      <td>1425 København K</td>\n",
       "      <td>4000000</td>\n",
       "      <td>2017-05-23</td>\n",
       "      <td>Alm. Salg</td>\n",
       "      <td>43956.0</td>\n",
       "      <td>3.0</td>\n",
       "      <td>Lejlighed</td>\n",
       "      <td>91.0</td>\n",
       "      <td>1938.0</td>\n",
       "      <td>0.0</td>\n",
       "      <td>1425</td>\n",
       "      <td>12.593629</td>\n",
       "      <td>55.671769</td>\n",
       "    </tr>\n",
       "    <tr>\n",
       "      <th>1</th>\n",
       "      <td>Rådhusstræde 4C, 1</td>\n",
       "      <td>1466 København K</td>\n",
       "      <td>4895000</td>\n",
       "      <td>2017-05-18</td>\n",
       "      <td>Alm. Salg</td>\n",
       "      <td>46619.0</td>\n",
       "      <td>3.0</td>\n",
       "      <td>Lejlighed</td>\n",
       "      <td>105.0</td>\n",
       "      <td>1796.0</td>\n",
       "      <td>0.0</td>\n",
       "      <td>1466</td>\n",
       "      <td>12.573689</td>\n",
       "      <td>55.676839</td>\n",
       "    </tr>\n",
       "    <tr>\n",
       "      <th>2</th>\n",
       "      <td>Store Kongensgade 112A, 3</td>\n",
       "      <td>1264 København K</td>\n",
       "      <td>250000</td>\n",
       "      <td>2017-05-15</td>\n",
       "      <td>Andet</td>\n",
       "      <td>1851.0</td>\n",
       "      <td>2.0</td>\n",
       "      <td>Lejlighed</td>\n",
       "      <td>135.0</td>\n",
       "      <td>1860.0</td>\n",
       "      <td>0.0</td>\n",
       "      <td>1264</td>\n",
       "      <td>12.590441</td>\n",
       "      <td>55.687079</td>\n",
       "    </tr>\n",
       "    <tr>\n",
       "      <th>3</th>\n",
       "      <td>Amaliegade 13G, 2</td>\n",
       "      <td>1256 København K</td>\n",
       "      <td>7375000</td>\n",
       "      <td>2017-05-15</td>\n",
       "      <td>Alm. Salg</td>\n",
       "      <td>75255.0</td>\n",
       "      <td>3.0</td>\n",
       "      <td>Lejlighed</td>\n",
       "      <td>98.0</td>\n",
       "      <td>1948.0</td>\n",
       "      <td>9.0</td>\n",
       "      <td>1256</td>\n",
       "      <td>12.591287</td>\n",
       "      <td>55.683439</td>\n",
       "    </tr>\n",
       "    <tr>\n",
       "      <th>4</th>\n",
       "      <td>Borgergade 144, 3. TH</td>\n",
       "      <td>1300 København K</td>\n",
       "      <td>5825000</td>\n",
       "      <td>2017-05-10</td>\n",
       "      <td>Alm. Salg</td>\n",
       "      <td>57673.0</td>\n",
       "      <td>3.0</td>\n",
       "      <td>Lejlighed</td>\n",
       "      <td>101.0</td>\n",
       "      <td>1854.0</td>\n",
       "      <td>3.0</td>\n",
       "      <td>1300</td>\n",
       "      <td>12.588744</td>\n",
       "      <td>55.687623</td>\n",
       "    </tr>\n",
       "  </tbody>\n",
       "</table>\n",
       "</div>"
      ],
      "text/plain": [
       "                     address          zip_code    price  sell_date  sell_type  \\\n",
       "0        Ved Volden 5, 5. TV  1425 København K  4000000 2017-05-23  Alm. Salg   \n",
       "1         Rådhusstræde 4C, 1  1466 København K  4895000 2017-05-18  Alm. Salg   \n",
       "2  Store Kongensgade 112A, 3  1264 København K   250000 2017-05-15      Andet   \n",
       "3          Amaliegade 13G, 2  1256 København K  7375000 2017-05-15  Alm. Salg   \n",
       "4      Borgergade 144, 3. TH  1300 København K  5825000 2017-05-10  Alm. Salg   \n",
       "\n",
       "   price_per_sq_m  no_rooms housing_type  size_in_sq_m  year_of_construction  \\\n",
       "0         43956.0       3.0    Lejlighed          91.0                1938.0   \n",
       "1         46619.0       3.0    Lejlighed         105.0                1796.0   \n",
       "2          1851.0       2.0    Lejlighed         135.0                1860.0   \n",
       "3         75255.0       3.0    Lejlighed          98.0                1948.0   \n",
       "4         57673.0       3.0    Lejlighed         101.0                1854.0   \n",
       "\n",
       "   price_change_in_pct  zip_code_num       long        lat  \n",
       "0                  0.0          1425  12.593629  55.671769  \n",
       "1                  0.0          1466  12.573689  55.676839  \n",
       "2                  0.0          1264  12.590441  55.687079  \n",
       "3                  9.0          1256  12.591287  55.683439  \n",
       "4                  3.0          1300  12.588744  55.687623  "
      ]
     },
     "execution_count": 39,
     "metadata": {},
     "output_type": "execute_result"
    }
   ],
   "source": [
    "df.head()"
   ]
  },
  {
   "cell_type": "code",
   "execution_count": 40,
   "metadata": {},
   "outputs": [],
   "source": [
    "df_2015['dist_2_cph'] = df_2015.apply(lambda row : haversine_distance((row['lat'],row['long']),(55.676111, 12.568333)), axis=1)\n"
   ]
  },
  {
   "cell_type": "code",
   "execution_count": 41,
   "metadata": {},
   "outputs": [
    {
     "data": {
      "text/html": [
       "<div>\n",
       "<style scoped>\n",
       "    .dataframe tbody tr th:only-of-type {\n",
       "        vertical-align: middle;\n",
       "    }\n",
       "\n",
       "    .dataframe tbody tr th {\n",
       "        vertical-align: top;\n",
       "    }\n",
       "\n",
       "    .dataframe thead th {\n",
       "        text-align: right;\n",
       "    }\n",
       "</style>\n",
       "<table border=\"1\" class=\"dataframe\">\n",
       "  <thead>\n",
       "    <tr style=\"text-align: right;\">\n",
       "      <th></th>\n",
       "      <th>address</th>\n",
       "      <th>zip_code</th>\n",
       "      <th>price</th>\n",
       "      <th>sell_date</th>\n",
       "      <th>sell_type</th>\n",
       "      <th>price_per_sq_m</th>\n",
       "      <th>no_rooms</th>\n",
       "      <th>housing_type</th>\n",
       "      <th>size_in_sq_m</th>\n",
       "      <th>year_of_construction</th>\n",
       "      <th>price_change_in_pct</th>\n",
       "      <th>zip_code_num</th>\n",
       "      <th>long</th>\n",
       "      <th>lat</th>\n",
       "      <th>dist_2_cph</th>\n",
       "    </tr>\n",
       "  </thead>\n",
       "  <tbody>\n",
       "    <tr>\n",
       "      <th>959</th>\n",
       "      <td>Strandgade 44D, 3</td>\n",
       "      <td>1401 København K</td>\n",
       "      <td>1658000</td>\n",
       "      <td>2015-12-31</td>\n",
       "      <td>Fam. Salg</td>\n",
       "      <td>21256.0</td>\n",
       "      <td>2.0</td>\n",
       "      <td>Lejlighed</td>\n",
       "      <td>78.0</td>\n",
       "      <td>1700.0</td>\n",
       "      <td>0.0</td>\n",
       "      <td>1401</td>\n",
       "      <td>12.592139</td>\n",
       "      <td>55.674963</td>\n",
       "      <td>1.498095</td>\n",
       "    </tr>\n",
       "    <tr>\n",
       "      <th>960</th>\n",
       "      <td>Sankt Peders Stræde 25, 4</td>\n",
       "      <td>1453 København K</td>\n",
       "      <td>5450000</td>\n",
       "      <td>2015-12-30</td>\n",
       "      <td>Alm. Salg</td>\n",
       "      <td>43600.0</td>\n",
       "      <td>4.0</td>\n",
       "      <td>Lejlighed</td>\n",
       "      <td>125.0</td>\n",
       "      <td>1816.0</td>\n",
       "      <td>-4.0</td>\n",
       "      <td>1453</td>\n",
       "      <td>12.569491</td>\n",
       "      <td>55.679205</td>\n",
       "      <td>0.351614</td>\n",
       "    </tr>\n",
       "    <tr>\n",
       "      <th>961</th>\n",
       "      <td>Overgaden Neden Vandet 5A, 2. TV</td>\n",
       "      <td>1414 København K</td>\n",
       "      <td>4107000</td>\n",
       "      <td>2015-12-30</td>\n",
       "      <td>Alm. Salg</td>\n",
       "      <td>37000.0</td>\n",
       "      <td>3.0</td>\n",
       "      <td>Lejlighed</td>\n",
       "      <td>111.0</td>\n",
       "      <td>1995.0</td>\n",
       "      <td>0.0</td>\n",
       "      <td>1414</td>\n",
       "      <td>12.588321</td>\n",
       "      <td>55.671338</td>\n",
       "      <td>1.361057</td>\n",
       "    </tr>\n",
       "    <tr>\n",
       "      <th>962</th>\n",
       "      <td>Overgaden Neden Vandet 5A, 2. TH</td>\n",
       "      <td>1414 København K</td>\n",
       "      <td>3811000</td>\n",
       "      <td>2015-12-30</td>\n",
       "      <td>Alm. Salg</td>\n",
       "      <td>37000.0</td>\n",
       "      <td>3.0</td>\n",
       "      <td>Lejlighed</td>\n",
       "      <td>103.0</td>\n",
       "      <td>1995.0</td>\n",
       "      <td>0.0</td>\n",
       "      <td>1414</td>\n",
       "      <td>12.588321</td>\n",
       "      <td>55.671338</td>\n",
       "      <td>1.361057</td>\n",
       "    </tr>\n",
       "    <tr>\n",
       "      <th>963</th>\n",
       "      <td>Galionsvej 1F, 2. 29</td>\n",
       "      <td>1437 København K</td>\n",
       "      <td>8500000</td>\n",
       "      <td>2015-12-30</td>\n",
       "      <td>Alm. Salg</td>\n",
       "      <td>60714.0</td>\n",
       "      <td>3.0</td>\n",
       "      <td>Lejlighed</td>\n",
       "      <td>140.0</td>\n",
       "      <td>1952.0</td>\n",
       "      <td>0.0</td>\n",
       "      <td>1437</td>\n",
       "      <td>12.606322</td>\n",
       "      <td>55.678720</td>\n",
       "      <td>2.399416</td>\n",
       "    </tr>\n",
       "  </tbody>\n",
       "</table>\n",
       "</div>"
      ],
      "text/plain": [
       "                              address          zip_code    price  sell_date  \\\n",
       "959                 Strandgade 44D, 3  1401 København K  1658000 2015-12-31   \n",
       "960         Sankt Peders Stræde 25, 4  1453 København K  5450000 2015-12-30   \n",
       "961  Overgaden Neden Vandet 5A, 2. TV  1414 København K  4107000 2015-12-30   \n",
       "962  Overgaden Neden Vandet 5A, 2. TH  1414 København K  3811000 2015-12-30   \n",
       "963              Galionsvej 1F, 2. 29  1437 København K  8500000 2015-12-30   \n",
       "\n",
       "     sell_type  price_per_sq_m  no_rooms housing_type  size_in_sq_m  \\\n",
       "959  Fam. Salg         21256.0       2.0    Lejlighed          78.0   \n",
       "960  Alm. Salg         43600.0       4.0    Lejlighed         125.0   \n",
       "961  Alm. Salg         37000.0       3.0    Lejlighed         111.0   \n",
       "962  Alm. Salg         37000.0       3.0    Lejlighed         103.0   \n",
       "963  Alm. Salg         60714.0       3.0    Lejlighed         140.0   \n",
       "\n",
       "     year_of_construction  price_change_in_pct  zip_code_num       long  \\\n",
       "959                1700.0                  0.0          1401  12.592139   \n",
       "960                1816.0                 -4.0          1453  12.569491   \n",
       "961                1995.0                  0.0          1414  12.588321   \n",
       "962                1995.0                  0.0          1414  12.588321   \n",
       "963                1952.0                  0.0          1437  12.606322   \n",
       "\n",
       "           lat  dist_2_cph  \n",
       "959  55.674963    1.498095  \n",
       "960  55.679205    0.351614  \n",
       "961  55.671338    1.361057  \n",
       "962  55.671338    1.361057  \n",
       "963  55.678720    2.399416  "
      ]
     },
     "execution_count": 41,
     "metadata": {},
     "output_type": "execute_result"
    }
   ],
   "source": [
    "df_2015.head()"
   ]
  },
  {
   "cell_type": "code",
   "execution_count": 42,
   "metadata": {},
   "outputs": [],
   "source": [
    "mask_dist_smaller_50 = (df_2015.dist_2_cph <= 50)  "
   ]
  },
  {
   "cell_type": "code",
   "execution_count": 43,
   "metadata": {},
   "outputs": [],
   "source": [
    "distances = df_2015[mask_dist_smaller_50]"
   ]
  },
  {
   "cell_type": "code",
   "execution_count": 44,
   "metadata": {},
   "outputs": [
    {
     "data": {
      "text/html": [
       "<div>\n",
       "<style scoped>\n",
       "    .dataframe tbody tr th:only-of-type {\n",
       "        vertical-align: middle;\n",
       "    }\n",
       "\n",
       "    .dataframe tbody tr th {\n",
       "        vertical-align: top;\n",
       "    }\n",
       "\n",
       "    .dataframe thead th {\n",
       "        text-align: right;\n",
       "    }\n",
       "</style>\n",
       "<table border=\"1\" class=\"dataframe\">\n",
       "  <thead>\n",
       "    <tr style=\"text-align: right;\">\n",
       "      <th></th>\n",
       "      <th>address</th>\n",
       "      <th>zip_code</th>\n",
       "      <th>price</th>\n",
       "      <th>sell_date</th>\n",
       "      <th>sell_type</th>\n",
       "      <th>price_per_sq_m</th>\n",
       "      <th>no_rooms</th>\n",
       "      <th>housing_type</th>\n",
       "      <th>size_in_sq_m</th>\n",
       "      <th>year_of_construction</th>\n",
       "      <th>price_change_in_pct</th>\n",
       "      <th>zip_code_num</th>\n",
       "      <th>long</th>\n",
       "      <th>lat</th>\n",
       "      <th>dist_2_cph</th>\n",
       "    </tr>\n",
       "  </thead>\n",
       "  <tbody>\n",
       "    <tr>\n",
       "      <th>959</th>\n",
       "      <td>Strandgade 44D, 3</td>\n",
       "      <td>1401 København K</td>\n",
       "      <td>1658000</td>\n",
       "      <td>2015-12-31</td>\n",
       "      <td>Fam. Salg</td>\n",
       "      <td>21256.0</td>\n",
       "      <td>2.0</td>\n",
       "      <td>Lejlighed</td>\n",
       "      <td>78.0</td>\n",
       "      <td>1700.0</td>\n",
       "      <td>0.0</td>\n",
       "      <td>1401</td>\n",
       "      <td>12.592139</td>\n",
       "      <td>55.674963</td>\n",
       "      <td>1.498095</td>\n",
       "    </tr>\n",
       "    <tr>\n",
       "      <th>960</th>\n",
       "      <td>Sankt Peders Stræde 25, 4</td>\n",
       "      <td>1453 København K</td>\n",
       "      <td>5450000</td>\n",
       "      <td>2015-12-30</td>\n",
       "      <td>Alm. Salg</td>\n",
       "      <td>43600.0</td>\n",
       "      <td>4.0</td>\n",
       "      <td>Lejlighed</td>\n",
       "      <td>125.0</td>\n",
       "      <td>1816.0</td>\n",
       "      <td>-4.0</td>\n",
       "      <td>1453</td>\n",
       "      <td>12.569491</td>\n",
       "      <td>55.679205</td>\n",
       "      <td>0.351614</td>\n",
       "    </tr>\n",
       "    <tr>\n",
       "      <th>961</th>\n",
       "      <td>Overgaden Neden Vandet 5A, 2. TV</td>\n",
       "      <td>1414 København K</td>\n",
       "      <td>4107000</td>\n",
       "      <td>2015-12-30</td>\n",
       "      <td>Alm. Salg</td>\n",
       "      <td>37000.0</td>\n",
       "      <td>3.0</td>\n",
       "      <td>Lejlighed</td>\n",
       "      <td>111.0</td>\n",
       "      <td>1995.0</td>\n",
       "      <td>0.0</td>\n",
       "      <td>1414</td>\n",
       "      <td>12.588321</td>\n",
       "      <td>55.671338</td>\n",
       "      <td>1.361057</td>\n",
       "    </tr>\n",
       "    <tr>\n",
       "      <th>962</th>\n",
       "      <td>Overgaden Neden Vandet 5A, 2. TH</td>\n",
       "      <td>1414 København K</td>\n",
       "      <td>3811000</td>\n",
       "      <td>2015-12-30</td>\n",
       "      <td>Alm. Salg</td>\n",
       "      <td>37000.0</td>\n",
       "      <td>3.0</td>\n",
       "      <td>Lejlighed</td>\n",
       "      <td>103.0</td>\n",
       "      <td>1995.0</td>\n",
       "      <td>0.0</td>\n",
       "      <td>1414</td>\n",
       "      <td>12.588321</td>\n",
       "      <td>55.671338</td>\n",
       "      <td>1.361057</td>\n",
       "    </tr>\n",
       "    <tr>\n",
       "      <th>963</th>\n",
       "      <td>Galionsvej 1F, 2. 29</td>\n",
       "      <td>1437 København K</td>\n",
       "      <td>8500000</td>\n",
       "      <td>2015-12-30</td>\n",
       "      <td>Alm. Salg</td>\n",
       "      <td>60714.0</td>\n",
       "      <td>3.0</td>\n",
       "      <td>Lejlighed</td>\n",
       "      <td>140.0</td>\n",
       "      <td>1952.0</td>\n",
       "      <td>0.0</td>\n",
       "      <td>1437</td>\n",
       "      <td>12.606322</td>\n",
       "      <td>55.678720</td>\n",
       "      <td>2.399416</td>\n",
       "    </tr>\n",
       "  </tbody>\n",
       "</table>\n",
       "</div>"
      ],
      "text/plain": [
       "                              address          zip_code    price  sell_date  \\\n",
       "959                 Strandgade 44D, 3  1401 København K  1658000 2015-12-31   \n",
       "960         Sankt Peders Stræde 25, 4  1453 København K  5450000 2015-12-30   \n",
       "961  Overgaden Neden Vandet 5A, 2. TV  1414 København K  4107000 2015-12-30   \n",
       "962  Overgaden Neden Vandet 5A, 2. TH  1414 København K  3811000 2015-12-30   \n",
       "963              Galionsvej 1F, 2. 29  1437 København K  8500000 2015-12-30   \n",
       "\n",
       "     sell_type  price_per_sq_m  no_rooms housing_type  size_in_sq_m  \\\n",
       "959  Fam. Salg         21256.0       2.0    Lejlighed          78.0   \n",
       "960  Alm. Salg         43600.0       4.0    Lejlighed         125.0   \n",
       "961  Alm. Salg         37000.0       3.0    Lejlighed         111.0   \n",
       "962  Alm. Salg         37000.0       3.0    Lejlighed         103.0   \n",
       "963  Alm. Salg         60714.0       3.0    Lejlighed         140.0   \n",
       "\n",
       "     year_of_construction  price_change_in_pct  zip_code_num       long  \\\n",
       "959                1700.0                  0.0          1401  12.592139   \n",
       "960                1816.0                 -4.0          1453  12.569491   \n",
       "961                1995.0                  0.0          1414  12.588321   \n",
       "962                1995.0                  0.0          1414  12.588321   \n",
       "963                1952.0                  0.0          1437  12.606322   \n",
       "\n",
       "           lat  dist_2_cph  \n",
       "959  55.674963    1.498095  \n",
       "960  55.679205    0.351614  \n",
       "961  55.671338    1.361057  \n",
       "962  55.671338    1.361057  \n",
       "963  55.678720    2.399416  "
      ]
     },
     "execution_count": 44,
     "metadata": {},
     "output_type": "execute_result"
    }
   ],
   "source": [
    "distances.head()"
   ]
  },
  {
   "cell_type": "code",
   "execution_count": 45,
   "metadata": {},
   "outputs": [
    {
     "ename": "PermissionError",
     "evalue": "[Errno 13] Permission denied: 'C:\\\\Users\\\\Mikkel\\\\Anaconda3\\\\share\\\\proj\\\\epsg'",
     "output_type": "error",
     "traceback": [
      "\u001b[1;31m---------------------------------------------------------------------------\u001b[0m",
      "\u001b[1;31mPermissionError\u001b[0m                           Traceback (most recent call last)",
      "\u001b[1;32m<ipython-input-45-44aeee830992>\u001b[0m in \u001b[0;36m<module>\u001b[1;34m\u001b[0m\n\u001b[0;32m      1\u001b[0m \u001b[1;32mimport\u001b[0m \u001b[0mwarnings\u001b[0m\u001b[1;33m\u001b[0m\u001b[1;33m\u001b[0m\u001b[0m\n\u001b[0;32m      2\u001b[0m \u001b[0mwarnings\u001b[0m\u001b[1;33m.\u001b[0m\u001b[0mfilterwarnings\u001b[0m\u001b[1;33m(\u001b[0m\u001b[1;34m'ignore'\u001b[0m\u001b[1;33m)\u001b[0m\u001b[1;33m\u001b[0m\u001b[1;33m\u001b[0m\u001b[0m\n\u001b[1;32m----> 3\u001b[1;33m \u001b[1;32mfrom\u001b[0m \u001b[0mmpl_toolkits\u001b[0m\u001b[1;33m.\u001b[0m\u001b[0mbasemap\u001b[0m \u001b[1;32mimport\u001b[0m \u001b[0mBasemap\u001b[0m\u001b[1;33m\u001b[0m\u001b[1;33m\u001b[0m\u001b[0m\n\u001b[0m\u001b[0;32m      4\u001b[0m \u001b[0mget_ipython\u001b[0m\u001b[1;33m(\u001b[0m\u001b[1;33m)\u001b[0m\u001b[1;33m.\u001b[0m\u001b[0mrun_line_magic\u001b[0m\u001b[1;33m(\u001b[0m\u001b[1;34m'matplotlib'\u001b[0m\u001b[1;33m,\u001b[0m \u001b[1;34m'notebook'\u001b[0m\u001b[1;33m)\u001b[0m\u001b[1;33m\u001b[0m\u001b[1;33m\u001b[0m\u001b[0m\n\u001b[0;32m      5\u001b[0m \u001b[0mfig\u001b[0m \u001b[1;33m=\u001b[0m \u001b[0mplt\u001b[0m\u001b[1;33m.\u001b[0m\u001b[0mfigure\u001b[0m\u001b[1;33m(\u001b[0m\u001b[0mfigsize\u001b[0m\u001b[1;33m=\u001b[0m\u001b[1;33m(\u001b[0m\u001b[1;36m4\u001b[0m\u001b[1;33m,\u001b[0m \u001b[1;36m4\u001b[0m\u001b[1;33m)\u001b[0m\u001b[1;33m)\u001b[0m\u001b[1;33m\u001b[0m\u001b[1;33m\u001b[0m\u001b[0m\n",
      "\u001b[1;32m~\\Anaconda3\\lib\\site-packages\\mpl_toolkits\\basemap\\__init__.py\u001b[0m in \u001b[0;36m<module>\u001b[1;34m\u001b[0m\n\u001b[0;32m    151\u001b[0m \u001b[1;31m# create dictionary that maps epsg codes to Basemap kwargs.\u001b[0m\u001b[1;33m\u001b[0m\u001b[1;33m\u001b[0m\u001b[1;33m\u001b[0m\u001b[0m\n\u001b[0;32m    152\u001b[0m \u001b[0mpyproj_datadir\u001b[0m \u001b[1;33m=\u001b[0m \u001b[0mos\u001b[0m\u001b[1;33m.\u001b[0m\u001b[0menviron\u001b[0m\u001b[1;33m[\u001b[0m\u001b[1;34m'PROJ_LIB'\u001b[0m\u001b[1;33m]\u001b[0m\u001b[1;33m\u001b[0m\u001b[1;33m\u001b[0m\u001b[0m\n\u001b[1;32m--> 153\u001b[1;33m \u001b[0mepsgf\u001b[0m \u001b[1;33m=\u001b[0m \u001b[0mopen\u001b[0m\u001b[1;33m(\u001b[0m\u001b[0mos\u001b[0m\u001b[1;33m.\u001b[0m\u001b[0mpath\u001b[0m\u001b[1;33m.\u001b[0m\u001b[0mjoin\u001b[0m\u001b[1;33m(\u001b[0m\u001b[0mpyproj_datadir\u001b[0m\u001b[1;33m,\u001b[0m\u001b[1;34m'epsg'\u001b[0m\u001b[1;33m)\u001b[0m\u001b[1;33m)\u001b[0m\u001b[1;33m\u001b[0m\u001b[1;33m\u001b[0m\u001b[0m\n\u001b[0m\u001b[0;32m    154\u001b[0m \u001b[0mepsg_dict\u001b[0m\u001b[1;33m=\u001b[0m\u001b[1;33m{\u001b[0m\u001b[1;33m}\u001b[0m\u001b[1;33m\u001b[0m\u001b[1;33m\u001b[0m\u001b[0m\n\u001b[0;32m    155\u001b[0m \u001b[1;32mfor\u001b[0m \u001b[0mline\u001b[0m \u001b[1;32min\u001b[0m \u001b[0mepsgf\u001b[0m\u001b[1;33m:\u001b[0m\u001b[1;33m\u001b[0m\u001b[1;33m\u001b[0m\u001b[0m\n",
      "\u001b[1;31mPermissionError\u001b[0m: [Errno 13] Permission denied: 'C:\\\\Users\\\\Mikkel\\\\Anaconda3\\\\share\\\\proj\\\\epsg'"
     ]
    }
   ],
   "source": [
    "import warnings\n",
    "warnings.filterwarnings('ignore')\n",
    "from mpl_toolkits.basemap import Basemap\n",
    "%matplotlib notebook\n",
    "fig = plt.figure(figsize=(4, 4))\n",
    "m = Basemap(projection='lcc', resolution=None,\n",
    "            width=2000000, height=2000000, \n",
    "            lat_0=55, lon_0=10,)\n",
    "m.etopo(scale=1.0, alpha=0.5)\n",
    "i = 0\n",
    "for add,z_code,lat,long in zip(distances['address'],distances['zip_code'],distances['lat'],distances['long']):\n",
    "    x, y = m(long,lat)\n",
    "    plt.plot(x, y, 'ok', markersize=5)\n",
    "    plt.text(x + 50000, y - 0,z_code, fontsize=8)  \n",
    "    if i == 3:\n",
    "        break\n",
    "    i+=1    "
   ]
  },
  {
   "cell_type": "markdown",
   "metadata": {},
   "source": [
    "### Use folium to plot the locations of the 1992 housing sales for the city centers of Copenhagen (zip code 1000-1499), Odense (zip code 5000), Aarhus (zip code 8000), and Aalborg (zip code 9000), see Assignment 2 onto a map."
   ]
  },
  {
   "cell_type": "code",
   "execution_count": 46,
   "metadata": {},
   "outputs": [],
   "source": [
    "import folium\n",
    "from IPython.display import IFrame"
   ]
  },
  {
   "cell_type": "code",
   "execution_count": 47,
   "metadata": {},
   "outputs": [],
   "source": [
    "mask_1992 = ((df.sell_date.dt.year == 1992)&\n",
    "             ((df.zip_code_num == 5000)|\n",
    "              (df.zip_code_num == 8000)|\n",
    "              (df.zip_code_num == 9000)\n",
    "             )\n",
    ") "
   ]
  },
  {
   "cell_type": "code",
   "execution_count": 48,
   "metadata": {},
   "outputs": [
    {
     "data": {
      "text/html": [
       "<div>\n",
       "<style scoped>\n",
       "    .dataframe tbody tr th:only-of-type {\n",
       "        vertical-align: middle;\n",
       "    }\n",
       "\n",
       "    .dataframe tbody tr th {\n",
       "        vertical-align: top;\n",
       "    }\n",
       "\n",
       "    .dataframe thead th {\n",
       "        text-align: right;\n",
       "    }\n",
       "</style>\n",
       "<table border=\"1\" class=\"dataframe\">\n",
       "  <thead>\n",
       "    <tr style=\"text-align: right;\">\n",
       "      <th></th>\n",
       "      <th>address</th>\n",
       "      <th>zip_code</th>\n",
       "      <th>price</th>\n",
       "      <th>sell_date</th>\n",
       "      <th>sell_type</th>\n",
       "      <th>price_per_sq_m</th>\n",
       "      <th>no_rooms</th>\n",
       "      <th>housing_type</th>\n",
       "      <th>size_in_sq_m</th>\n",
       "      <th>year_of_construction</th>\n",
       "      <th>price_change_in_pct</th>\n",
       "      <th>zip_code_num</th>\n",
       "      <th>long</th>\n",
       "      <th>lat</th>\n",
       "    </tr>\n",
       "  </thead>\n",
       "  <tbody>\n",
       "    <tr>\n",
       "      <th>611026</th>\n",
       "      <td>Bøgebjergvej 12</td>\n",
       "      <td>5000 Odense C</td>\n",
       "      <td>655000</td>\n",
       "      <td>1992-11-27</td>\n",
       "      <td>Alm. Salg</td>\n",
       "      <td>5413.0</td>\n",
       "      <td>4.0</td>\n",
       "      <td>Villa</td>\n",
       "      <td>121.0</td>\n",
       "      <td>1934.0</td>\n",
       "      <td>0.0</td>\n",
       "      <td>5000</td>\n",
       "      <td>10.392850</td>\n",
       "      <td>55.411877</td>\n",
       "    </tr>\n",
       "    <tr>\n",
       "      <th>611027</th>\n",
       "      <td>Windelsvej 37</td>\n",
       "      <td>5000 Odense C</td>\n",
       "      <td>640000</td>\n",
       "      <td>1992-11-25</td>\n",
       "      <td>Alm. Salg</td>\n",
       "      <td>4324.0</td>\n",
       "      <td>6.0</td>\n",
       "      <td>Villa</td>\n",
       "      <td>148.0</td>\n",
       "      <td>1935.0</td>\n",
       "      <td>0.0</td>\n",
       "      <td>5000</td>\n",
       "      <td>10.393368</td>\n",
       "      <td>55.416377</td>\n",
       "    </tr>\n",
       "    <tr>\n",
       "      <th>611028</th>\n",
       "      <td>Drejøgade 21</td>\n",
       "      <td>5000 Odense C</td>\n",
       "      <td>575000</td>\n",
       "      <td>1992-11-24</td>\n",
       "      <td>Alm. Salg</td>\n",
       "      <td>7012.0</td>\n",
       "      <td>3.0</td>\n",
       "      <td>Villa</td>\n",
       "      <td>82.0</td>\n",
       "      <td>1938.0</td>\n",
       "      <td>0.0</td>\n",
       "      <td>5000</td>\n",
       "      <td>10.398223</td>\n",
       "      <td>55.418960</td>\n",
       "    </tr>\n",
       "    <tr>\n",
       "      <th>611029</th>\n",
       "      <td>Vendersvej 29</td>\n",
       "      <td>5000 Odense C</td>\n",
       "      <td>350000</td>\n",
       "      <td>1992-11-14</td>\n",
       "      <td>Alm. Salg</td>\n",
       "      <td>4545.0</td>\n",
       "      <td>4.0</td>\n",
       "      <td>Villa</td>\n",
       "      <td>77.0</td>\n",
       "      <td>1948.0</td>\n",
       "      <td>0.0</td>\n",
       "      <td>5000</td>\n",
       "      <td>10.417827</td>\n",
       "      <td>55.410032</td>\n",
       "    </tr>\n",
       "    <tr>\n",
       "      <th>611030</th>\n",
       "      <td>Bøgebjergvej 5</td>\n",
       "      <td>5000 Odense C</td>\n",
       "      <td>376250</td>\n",
       "      <td>1992-11-11</td>\n",
       "      <td>Fam. Salg</td>\n",
       "      <td>2894.0</td>\n",
       "      <td>6.0</td>\n",
       "      <td>Villa</td>\n",
       "      <td>130.0</td>\n",
       "      <td>1923.0</td>\n",
       "      <td>0.0</td>\n",
       "      <td>5000</td>\n",
       "      <td>10.393447</td>\n",
       "      <td>55.411999</td>\n",
       "    </tr>\n",
       "  </tbody>\n",
       "</table>\n",
       "</div>"
      ],
      "text/plain": [
       "                address       zip_code   price  sell_date  sell_type  \\\n",
       "611026  Bøgebjergvej 12  5000 Odense C  655000 1992-11-27  Alm. Salg   \n",
       "611027    Windelsvej 37  5000 Odense C  640000 1992-11-25  Alm. Salg   \n",
       "611028     Drejøgade 21  5000 Odense C  575000 1992-11-24  Alm. Salg   \n",
       "611029    Vendersvej 29  5000 Odense C  350000 1992-11-14  Alm. Salg   \n",
       "611030   Bøgebjergvej 5  5000 Odense C  376250 1992-11-11  Fam. Salg   \n",
       "\n",
       "        price_per_sq_m  no_rooms housing_type  size_in_sq_m  \\\n",
       "611026          5413.0       4.0        Villa         121.0   \n",
       "611027          4324.0       6.0        Villa         148.0   \n",
       "611028          7012.0       3.0        Villa          82.0   \n",
       "611029          4545.0       4.0        Villa          77.0   \n",
       "611030          2894.0       6.0        Villa         130.0   \n",
       "\n",
       "        year_of_construction  price_change_in_pct  zip_code_num       long  \\\n",
       "611026                1934.0                  0.0          5000  10.392850   \n",
       "611027                1935.0                  0.0          5000  10.393368   \n",
       "611028                1938.0                  0.0          5000  10.398223   \n",
       "611029                1948.0                  0.0          5000  10.417827   \n",
       "611030                1923.0                  0.0          5000  10.393447   \n",
       "\n",
       "              lat  \n",
       "611026  55.411877  \n",
       "611027  55.416377  \n",
       "611028  55.418960  \n",
       "611029  55.410032  \n",
       "611030  55.411999  "
      ]
     },
     "execution_count": 48,
     "metadata": {},
     "output_type": "execute_result"
    }
   ],
   "source": [
    "df_1992 = df[mask_1992]\n",
    "df_1992.head()"
   ]
  },
  {
   "cell_type": "code",
   "execution_count": 49,
   "metadata": {},
   "outputs": [],
   "source": [
    "my_map = folium.Map(location=[55.88207495748612, 10.636574309440173], zoom_start=6)\n",
    "for add,z_code,lat,long in zip(df_1992['address'],df_1992['zip_code'],df_1992['lat'],df_1992['long']):\n",
    "    folium.CircleMarker(location=[lat, long], radius=2,popup=add+'\\n '+z_code).add_to(my_map)\n",
    "my_map.save('./large_flat_trades.html')   "
   ]
  },
  {
   "cell_type": "code",
   "execution_count": 50,
   "metadata": {},
   "outputs": [
    {
     "data": {
      "text/html": [
       "\n",
       "        <iframe\n",
       "            width=\"700\"\n",
       "            height=\"600\"\n",
       "            src=\"./large_flat_trades.html\"\n",
       "            frameborder=\"0\"\n",
       "            allowfullscreen\n",
       "        ></iframe>\n",
       "        "
      ],
      "text/plain": [
       "<IPython.lib.display.IFrame at 0x294bb9f41d0>"
      ]
     },
     "execution_count": 50,
     "metadata": {},
     "output_type": "execute_result"
    }
   ],
   "source": [
    "IFrame(src='./large_flat_trades.html', width=700, height=600)"
   ]
  },
  {
   "cell_type": "markdown",
   "metadata": {},
   "source": [
    "### Create a 2D plot, which compares prices per square meter (on the x-axis) and distance to Nørreport st. (y-axis) for all housing on Sjæland for the year 2005 and where the zip code is lower than 3000 and the price per square meter is lower than 80000Dkk. Describe in words what you can read out of the plot. Formulate a hypothesis on how the values on the two axis might be related."
   ]
  },
  {
   "cell_type": "code",
   "execution_count": 51,
   "metadata": {},
   "outputs": [],
   "source": [
    "mask_2005 = (\n",
    "    (df.sell_date.dt.year == 2005)&\n",
    "    (df.zip_code_num < 3000)&\n",
    "    (df.price_per_sq_m < 80000)\n",
    ")"
   ]
  },
  {
   "cell_type": "code",
   "execution_count": 52,
   "metadata": {},
   "outputs": [],
   "source": [
    "df_2005 = df[mask_2005]"
   ]
  },
  {
   "cell_type": "code",
   "execution_count": 53,
   "metadata": {},
   "outputs": [],
   "source": [
    "df_2005['dist_norre'] = df_2005.apply(lambda row : haversine_distance((row['lat'],row['long']),(55.683010, 12.571143)), axis=1)"
   ]
  },
  {
   "cell_type": "code",
   "execution_count": 54,
   "metadata": {},
   "outputs": [
    {
     "data": {
      "text/plain": [
       "<matplotlib.collections.PathCollection at 0x294bbd40358>"
      ]
     },
     "execution_count": 54,
     "metadata": {},
     "output_type": "execute_result"
    },
    {
     "data": {
      "image/png": "[encoded data removed]",
      "text/plain": [
       "<Figure size 432x288 with 1 Axes>"
      ]
     },
     "metadata": {
      "needs_background": "light"
     },
     "output_type": "display_data"
    }
   ],
   "source": [
    "%matplotlib inline\n",
    "plt.scatter(df_2005.price_per_sq_m,df_2005.dist_norre)"
   ]
  },
  {
   "cell_type": "markdown",
   "metadata": {},
   "source": [
    "### From looking at the plot we can see that the further away you live from Nørreport St. the price per square meter is less\n",
    "### So our hypothesis is: The further away you live from Nørreport St. the cheaper the price per square meter is"
   ]
  },
  {
   "cell_type": "markdown",
   "metadata": {},
   "source": [
    "### Create a histogram (bar plot), which visualizes the frequency of house trades per zip code area corresponding to the entire dataset of housing sale records."
   ]
  },
  {
   "cell_type": "code",
   "execution_count": 107,
   "metadata": {},
   "outputs": [
    {
     "data": {
      "text/plain": [
       "(array([ 38871., 229844., 133335., 123834., 129315., 101144., 130518.,\n",
       "         96183., 182528., 116266.]),\n",
       " array([1050., 1944., 2838., 3732., 4626., 5520., 6414., 7308., 8202.,\n",
       "        9096., 9990.]),\n",
       " <a list of 10 Patch objects>)"
      ]
     },
     "execution_count": 107,
     "metadata": {},
     "output_type": "execute_result"
    },
    {
     "data": {
      "image/png": "[encoded data removed]",
      "text/plain": [
       "<Figure size 432x288 with 1 Axes>"
      ]
     },
     "metadata": {
      "needs_background": "light"
     },
     "output_type": "display_data"
    }
   ],
   "source": [
    "plt.hist(df.zip_code_num, bins=10)"
   ]
  },
  {
   "cell_type": "markdown",
   "metadata": {},
   "source": [
    "### Create a cumulatve histogram, which visualizes the frequency of house trades per zip code area corresponding to the entire dataset of housing sale records and the vertical bars are colored to the frequency of rooms per sales record. That is, a plot similar to the following, where single rooms are in the bottom and two room frequencies on top, etc. See, http://matplotlib.org/1.3.0/examples/pylab\\_examples/histogram\\_demo\\_extended.html for example."
   ]
  },
  {
   "cell_type": "code",
   "execution_count": 110,
   "metadata": {},
   "outputs": [
    {
     "data": {
      "text/plain": [
       "(array([  38871.,  268715.,  402050.,  525884.,  655199.,  756343.,\n",
       "         886861.,  983044., 1165572., 1281838.]),\n",
       " array([1050., 1944., 2838., 3732., 4626., 5520., 6414., 7308., 8202.,\n",
       "        9096., 9990.]),\n",
       " <a list of 10 Patch objects>)"
      ]
     },
     "execution_count": 110,
     "metadata": {},
     "output_type": "execute_result"
    },
    {
     "data": {
      "image/png": "[encoded data removed]",
      "text/plain": [
       "<Figure size 432x288 with 1 Axes>"
      ]
     },
     "metadata": {
      "needs_background": "light"
     },
     "output_type": "display_data"
    }
   ],
   "source": [
    "plt.hist(df.zip_code_num, cumulative=True)"
   ]
  },
  {
   "cell_type": "markdown",
   "metadata": {},
   "source": [
    "### Now, you create a 3D histogram, in which you plot the frequency of house trades per zip code area as a 'layer' for every in the dataset, see http://matplotlib.org/examples/mplot3d/index.html for an example."
   ]
  },
  {
   "cell_type": "code",
   "execution_count": 56,
   "metadata": {},
   "outputs": [
    {
     "data": {
      "image/png": "[encoded data removed]",
      "text/plain": [
       "<Figure size 432x288 with 1 Axes>"
      ]
     },
     "metadata": {
      "needs_background": "light"
     },
     "output_type": "display_data"
    }
   ],
   "source": [
    "from mpl_toolkits.mplot3d import Axes3D  # noqa: F401 unused import\n",
    "\n",
    "import matplotlib.pyplot as plt\n",
    "import numpy as np\n",
    "\n",
    "# Fixing random state for reproducibility\n",
    "np.random.seed(19680801)\n",
    "\n",
    "\n",
    "fig = plt.figure()\n",
    "ax = fig.add_subplot(111, projection='3d')\n",
    "hist, xedges, yedges = np.histogram2d(df.zip_code_num,df.zip_code_num,bins=7, range=[[0, 10], [0, 10]])\n",
    "\n",
    "# Construct arrays for the anchor positions of the 16 bars.\n",
    "xpos, ypos = np.meshgrid(xedges[:-1] + 0.25, yedges[:-1] + 0.25, indexing=\"ij\")\n",
    "xpos = xpos.ravel()\n",
    "ypos = ypos.ravel()\n",
    "zpos = 0\n",
    "\n",
    "# Construct arrays with the dimensions for the 16 bars.\n",
    "dx = dy = 0.5 * np.ones_like(zpos)\n",
    "dz = hist.ravel()\n",
    "\n",
    "ax.bar3d(xpos, ypos, zpos, dx, dy, dz, zsort='average')\n",
    "\n",
    "plt.show()"
   ]
  },
  {
   "cell_type": "code",
   "execution_count": 75,
   "metadata": {},
   "outputs": [
    {
     "data": {
      "image/png": "[encoded data removed]",
      "text/plain": [
       "<Figure size 432x288 with 1 Axes>"
      ]
     },
     "metadata": {
      "needs_background": "light"
     },
     "output_type": "display_data"
    }
   ],
   "source": [
    "from mpl_toolkits.mplot3d import Axes3D\n",
    "import matplotlib.pyplot as plt\n",
    "import numpy as np\n",
    "\n",
    "fig = plt.figure()\n",
    "ax = fig.add_subplot(111, projection='3d')\n",
    "for c, z in zip(['r', 'g', 'b', 'y','c', 'brown'], [10000, 8000, 6000, 4000, 2000, 0]):\n",
    "    xs = np.arange(20)\n",
    "    ys = np.random.rand(20)\n",
    "\n",
    "    # You can provide either a single color or an array. To demonstrate this,\n",
    "    # the first bar of each set will be colored cyan.\n",
    "    cs = [c] * len(xs)\n",
    "    ax.bar(xs, ys, zs=z, zdir='y', color=cs, alpha=0.8)\n",
    "\n",
    "ax.set_xlabel('X')\n",
    "ax.set_ylabel('Y')\n",
    "ax.set_zlabel('Z')\n",
    "\n",
    "plt.show()"
   ]
  },
  {
   "cell_type": "markdown",
   "metadata": {},
   "source": [
    "### Freestyle Create a plot, which visualizes a fact hidden in the housing sales data, which you want to highlight to business people."
   ]
  }
 ],
 "metadata": {
  "kernelspec": {
   "display_name": "Python 3",
   "language": "python",
   "name": "python3"
  },
  "language_info": {
   "codemirror_mode": {
    "name": "ipython",
    "version": 3
   },
   "file_extension": ".py",
   "mimetype": "text/x-python",
   "name": "python",
   "nbconvert_exporter": "python",
   "pygments_lexer": "ipython3",
   "version": "3.7.3"
  }
 },
 "nbformat": 4,
 "nbformat_minor": 2
}
