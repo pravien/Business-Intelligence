{
 "cells": [
  {
   "cell_type": "markdown",
   "metadata": {},
   "source": [
    "## This Assignment is about using an Integration Tool from Hitachi which is used for integration purpose. Its named Spoon.\n"
   ]
  },
  {
   "cell_type": "markdown",
   "metadata": {},
   "source": [
    "### We load the boliga dataset from a csv file and removes latitude and longitude og merges it with longitude and latitude from another csv\n",
    "\n",
    "### The setup\n",
    "![title](exam/img/setup.png)"
   ]
  },
  {
   "cell_type": "markdown",
   "metadata": {},
   "source": [
    "### To see what this returns we can look inside Spoon\n",
    "![image.png](exam/img/detailinside.png)"
   ]
  },
  {
   "cell_type": "markdown",
   "metadata": {},
   "source": [
    "### When we load the csv file\n",
    "![title](exam/img/input2.png)"
   ]
  },
  {
   "cell_type": "markdown",
   "metadata": {},
   "source": [
    "### We then remove some rows from input number 2 where we select all and decides to remove everything besides address long and lat, we need the address to have a key to the other data when merging\n",
    "![image.png](exam/img/selecter1.png)\n",
    "![image.png](exam/img/selecter2.png)\n"
   ]
  },
  {
   "cell_type": "markdown",
   "metadata": {},
   "source": [
    "### Then we want to merge the data\n",
    "![image.png](exam/img/merge.png)\n"
   ]
  },
  {
   "cell_type": "markdown",
   "metadata": {},
   "source": [
    "### We then get the result which we want to save, this gives us an csv file containing the data\n",
    "![image.png](exam/img/output.png)"
   ]
  },
  {
   "cell_type": "code",
   "execution_count": null,
   "metadata": {},
   "outputs": [],
   "source": []
  }
 ],
 "metadata": {
  "kernelspec": {
   "display_name": "Python 3",
   "language": "python",
   "name": "python3"
  },
  "language_info": {
   "codemirror_mode": {
    "name": "ipython",
    "version": 3
   },
   "file_extension": ".py",
   "mimetype": "text/x-python",
   "name": "python",
   "nbconvert_exporter": "python",
   "pygments_lexer": "ipython3",
   "version": "3.7.3"
  }
 },
 "nbformat": 4,
 "nbformat_minor": 2
}
